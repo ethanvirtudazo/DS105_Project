{
 "cells": [
  {
   "cell_type": "code",
   "execution_count": 2,
   "metadata": {},
   "outputs": [
    {
     "name": "stdout",
     "output_type": "stream",
     "text": [
      "Requirement already satisfied: selenium in /Applications/anaconda3/lib/python3.7/site-packages (4.6.0)\n",
      "Requirement already satisfied: certifi>=2021.10.8 in /Applications/anaconda3/lib/python3.7/site-packages (from selenium) (2022.9.24)\n",
      "Requirement already satisfied: trio~=0.17 in /Applications/anaconda3/lib/python3.7/site-packages (from selenium) (0.22.0)\n",
      "Requirement already satisfied: trio-websocket~=0.9 in /Applications/anaconda3/lib/python3.7/site-packages (from selenium) (0.9.2)\n",
      "Requirement already satisfied: urllib3[socks]~=1.26 in /Applications/anaconda3/lib/python3.7/site-packages (from selenium) (1.26.12)\n",
      "Requirement already satisfied: sniffio in /Applications/anaconda3/lib/python3.7/site-packages (from trio~=0.17->selenium) (1.3.0)\n",
      "Requirement already satisfied: sortedcontainers in /Applications/anaconda3/lib/python3.7/site-packages (from trio~=0.17->selenium) (2.1.0)\n",
      "Requirement already satisfied: async-generator>=1.9 in /Applications/anaconda3/lib/python3.7/site-packages (from trio~=0.17->selenium) (1.10)\n",
      "Requirement already satisfied: attrs>=19.2.0 in /Applications/anaconda3/lib/python3.7/site-packages (from trio~=0.17->selenium) (19.3.0)\n",
      "Requirement already satisfied: outcome in /Applications/anaconda3/lib/python3.7/site-packages (from trio~=0.17->selenium) (1.2.0)\n",
      "Requirement already satisfied: exceptiongroup>=1.0.0rc9 in /Applications/anaconda3/lib/python3.7/site-packages (from trio~=0.17->selenium) (1.0.1)\n",
      "Requirement already satisfied: idna in /Applications/anaconda3/lib/python3.7/site-packages (from trio~=0.17->selenium) (2.8)\n",
      "Requirement already satisfied: wsproto>=0.14 in /Applications/anaconda3/lib/python3.7/site-packages (from trio-websocket~=0.9->selenium) (1.2.0)\n",
      "Requirement already satisfied: PySocks!=1.5.7,<2.0,>=1.5.6 in /Applications/anaconda3/lib/python3.7/site-packages (from urllib3[socks]~=1.26->selenium) (1.7.1)\n",
      "Requirement already satisfied: h11<1,>=0.9.0 in /Applications/anaconda3/lib/python3.7/site-packages (from wsproto>=0.14->trio-websocket~=0.9->selenium) (0.14.0)\n",
      "Requirement already satisfied: typing-extensions in /Applications/anaconda3/lib/python3.7/site-packages (from h11<1,>=0.9.0->wsproto>=0.14->trio-websocket~=0.9->selenium) (4.1.1)\n"
     ]
    }
   ],
   "source": [
    "# installs selenium\n",
    "!pip install selenium\n",
    "from selenium.webdriver import Chrome\n",
    "driver_path = 'Users/user/Downloads/chromedriver2'"
   ]
  },
  {
   "cell_type": "code",
   "execution_count": 17,
   "metadata": {},
   "outputs": [],
   "source": [
    "import requests\n",
    "from bs4 import BeautifulSoup\n",
    "import pandas as pd"
   ]
  },
  {
   "cell_type": "code",
   "execution_count": 4,
   "metadata": {},
   "outputs": [
    {
     "name": "stderr",
     "output_type": "stream",
     "text": [
      "/Applications/anaconda3/lib/python3.7/site-packages/ipykernel_launcher.py:1: DeprecationWarning: executable_path has been deprecated, please pass in a Service object\n",
      "  \"\"\"Entry point for launching an IPython kernel.\n"
     ]
    }
   ],
   "source": [
    "driver = Chrome(driver_path)\n",
    "driver.get(\"https://careers.lse.ac.uk/students/jobs\")"
   ]
  },
  {
   "cell_type": "code",
   "execution_count": 5,
   "metadata": {},
   "outputs": [],
   "source": [
    "#navigating to the username box\n",
    "username = driver.find_element(\"css selector\", \"body > div.main > div > div > div > div.sparse-body.auth-body > div > div.ch-account > div > form > div.login > div.form-group.username-group\")\n",
    "# clicking on the username box\n",
    "username.click()\n",
    "from selenium.webdriver.common.keys import Keys\n",
    "#navigating to the username box\n",
    "username = driver.find_element(\"css selector\", \"body > div.main > div > div > div > div.sparse-body.auth-body > div > div.ch-account > div > form > div.login > div.form-group.username-group\")\n",
    "# clicking on the username box\n",
    "username.click()\n",
    "inputElement = driver.find_element(\"css selector\", \"#username\")\n",
    "inputElement.send_keys('202008067')"
   ]
  },
  {
   "cell_type": "code",
   "execution_count": 6,
   "metadata": {},
   "outputs": [],
   "source": [
    "password = driver.find_element(\"css selector\", \"body > div.main > div > div > div > div.sparse-body.auth-body > div > div.ch-account > div > form > div.login > div.form-group.password-group\")\n",
    "# clicking on the username box\n",
    "password.click()\n",
    "inputElement = driver.find_element(\"css selector\", \"#password\")\n",
    "inputElement.send_keys('Spiros135!')\n",
    "inputElement.send_keys(Keys.ENTER)"
   ]
  },
  {
   "cell_type": "code",
   "execution_count": 7,
   "metadata": {},
   "outputs": [],
   "source": [
    "more_search_options = driver.find_element(\"css selector\", \"#main > div.under-nav > div > div > form > div:nth-child(2) > div > div > ul > li:nth-child(4) > a > span\")\n",
    "more_search_options.click()"
   ]
  },
  {
   "cell_type": "code",
   "execution_count": 8,
   "metadata": {},
   "outputs": [],
   "source": [
    "investment_banking = driver.find_element(\"css selector\", \"#industry > option:nth-child(29)\")\n",
    "investment_banking.click()\n",
    "include_expired = driver.find_element(\"css selector\", \"#main > div.under-nav > div > div > form > div.form-group > div > div.col-md-12 > div.more-options.collapse.in > div:nth-child(5) > div > div:nth-child(2) > label > input[type=checkbox]\")\n",
    "include_expired.click()\n",
    "submit_search = driver.find_element(\"css selector\", \"#main > div.under-nav > div > div > form > div:nth-child(3) > div > div > button\")\n",
    "submit_search.click()"
   ]
  },
  {
   "cell_type": "code",
   "execution_count": 9,
   "metadata": {},
   "outputs": [],
   "source": [
    "#clicking all 6000+ jobs\n",
    "show_selector = driver.find_element(\"css selector\", \" #main > div.main-content > div > div.row > div.col-md-9 > div.text-center > div > div > button\")\n",
    "show_selector.click()"
   ]
  },
  {
   "cell_type": "code",
   "execution_count": 10,
   "metadata": {},
   "outputs": [
    {
     "name": "stdout",
     "output_type": "stream",
     "text": [
      "<Response [200]>\n",
      "https://careers.lse.ac.uk/students/jobs/Search?text=&typeofwork=-1&location=&country=Any&industry=1810&includeexpired=true\n"
     ]
    }
   ],
   "source": [
    "url = driver.current_url\n",
    "response = requests.get(url)\n",
    "print(response)\n",
    "url = driver.current_url\n",
    "print(url)"
   ]
  },
  {
   "cell_type": "code",
   "execution_count": 11,
   "metadata": {},
   "outputs": [
    {
     "data": {
      "text/plain": [
       "'\\n                Found 2207\\n                opportunities\\n\\n\\n                \\n\\n\\n                                Relevance\\n                            \\n\\n                                Most Recent\\n                            \\n\\n                                Closing Soon\\n                            \\n\\n\\n'"
      ]
     },
     "execution_count": 11,
     "metadata": {},
     "output_type": "execute_result"
    }
   ],
   "source": [
    "html = driver.page_source\n",
    "soup = BeautifulSoup(html)\n",
    "soup.find('div',attrs = {'class':'panel-heading'}).get_text()"
   ]
  },
  {
   "cell_type": "code",
   "execution_count": 12,
   "metadata": {},
   "outputs": [],
   "source": [
    "# run this block when job_titles/links is empty to RESET \n",
    "jobs = soup.find_all('div',attrs={'class':'list-group-item'})"
   ]
  },
  {
   "attachments": {},
   "cell_type": "markdown",
   "metadata": {},
   "source": [
    "For-loop for data extraction"
   ]
  },
  {
   "cell_type": "code",
   "execution_count": 13,
   "metadata": {},
   "outputs": [],
   "source": [
    "job_titles_1 = []\n",
    "job_links_1 = []\n",
    "app_date_list = []\n",
    "job_loc_list = []"
   ]
  },
  {
   "cell_type": "code",
   "execution_count": 14,
   "metadata": {},
   "outputs": [],
   "source": [
    "for job in jobs:\n",
    "  job_title_1 = job.find('a').get_text().replace(\"\\n                                \",\"\").replace(\"\\n                        \",\"\")\n",
    "  job_titles_1.append(job_title_1)\n",
    "\n",
    "  link = 'https://careers.lse.ac.uk/' + job.find('a').get('href')\n",
    "  job_links_1.append(link)    \n",
    "  \n",
    "  app_date = job.find('div',attrs={'class':'job-list-close'}).get_text().replace(\"\\nClosed\\n                            - \",\"\").replace(\"\\n                        \",\"\").replace(\"\\nCloses    - \",\"\")\n",
    "  app_date_list.append(app_date)\n",
    "\n",
    "  try:\n",
    "    job_loc = job.find('div',attrs={'class':'job-list-location'}).get_text().replace(\"\\n\",\"\")\n",
    "    job_loc_list.append(job_loc)\n",
    "\n",
    "  except AttributeError:\n",
    "    job_loc_list.append(\" \")"
   ]
  },
  {
   "cell_type": "code",
   "execution_count": 15,
   "metadata": {},
   "outputs": [
    {
     "data": {
      "text/plain": [
       "10"
      ]
     },
     "execution_count": 15,
     "metadata": {},
     "output_type": "execute_result"
    }
   ],
   "source": [
    "len(job_titles_1)"
   ]
  },
  {
   "cell_type": "code",
   "execution_count": 16,
   "metadata": {},
   "outputs": [
    {
     "data": {
      "text/plain": [
       "10"
      ]
     },
     "execution_count": 16,
     "metadata": {},
     "output_type": "execute_result"
    }
   ],
   "source": [
    "len(job_links_1)"
   ]
  },
  {
   "cell_type": "code",
   "execution_count": null,
   "metadata": {},
   "outputs": [],
   "source": [
    "#DATA COLLECTION AS OF 06.12.22\n",
    "\n",
    "from pandas.core.accessor import CachedAccessor\n",
    "#accessing each link and extracting our data\n",
    "job_detail_list = []\n",
    "job_title_list = []\n",
    "company_list = []\n",
    "\n",
    "opp_type_list = []\n",
    "con_type_list = []\n",
    "com_date_list = []\n",
    "\n",
    "count = 0\n",
    "\n",
    "for link in job_links:\n",
    "\n",
    "  url_job = link\n",
    "  response_html_job = requests.get(url_job)\n",
    "\n",
    "  driver.get(link)\n",
    "  html = driver.page_source \n",
    "  soup = BeautifulSoup(html)\n",
    "\n",
    "  title = soup.find('h3').get_text() \n",
    "  job_title_list.append(title)    \n",
    "    \n",
    "\n",
    "# Job Details\n",
    "\n",
    "  job_details = soup.find('div',attrs={'class':\"job-details\"}).get_text().replace(\"\\n                    \",\"\").replace(\"\\n                \",\"\")\n",
    "  job_detail_list.append(job_details)                                                                                          \n",
    "\n",
    "# Company Name  \n",
    "\n",
    "  try:\n",
    "    company = soup.find_all('div',attrs={'class':'container'})[2].find('a').get_text()\n",
    "    company_list.append(company)\n",
    "\n",
    "  except AttributeError:\n",
    "    company = soup.find_all('div',attrs={'class':'container'})[2].find('h4').get_text().replace(\"\\n\",\"\")\n",
    "    company_list.append(company)\n",
    "  \n",
    "# Opportunity Type: Graduate or Undergraduate Employment\n",
    "\n",
    "  opp_type = soup.find('div',attrs={'class':'list-group-item-heading'}).get_text().replace(\"\\n                            \",\"\").replace(\"\\n                        \",\"\").replace(\"\\n                    \",\"\")\n",
    "  opp_type_list.append(opp_type)                                                           \n",
    "\n",
    "# Contract Type\n",
    "\n",
    "  try:\n",
    "    con_type = soup.find_all('div',attrs={'class':'panel-body'})[3].find_all('p')[0].get_text()\n",
    "    con_type_list.append(con_type)\n",
    "\n",
    "  except IndexError: \n",
    "    try:\n",
    "      con_type = soup.find_all('div',attrs={'class':'panel-body'})[2].find_all('p')[0].get_text()\n",
    "      con_type_list.append(con_type) # some jobs have opportunities in the 3rd 'panel-body' block rather than the 4th\n",
    "\n",
    "    except IndexError: \n",
    "      con_type = soup.find_all('div',attrs={'class':'panel-body'})[1].find_all('p')[0].get_text()\n",
    "      con_type_list.append(con_type) # some jobs have opportunities in the 2nd 'panel-body' block rather than the 4th\n",
    "\n",
    "# Commencement Date \n",
    "\n",
    "  try:\n",
    "    com_date = soup.find_all('div',attrs={'class':'panel-body'})[3].find_all('p')[3].get_text()\n",
    "    com_date_list.append(com_date)\n",
    "\n",
    "  except IndexError: \n",
    "    try:\n",
    "      com_date = soup.find_all('div',attrs={'class':'panel-body'})[2].find_all('p')[3].get_text()\n",
    "      com_date_list.append(com_date)\n",
    "\n",
    "    except IndexError:\n",
    "      try:\n",
    "        com_date = soup.find_all('div',attrs={'class':'panel-body'})[1].find_all('p')[3].get_text()\n",
    "        com_date_list.append(com_date)\n",
    "\n",
    "      except IndexError:\n",
    "        try: \n",
    "          com_date = soup.find_all('div',attrs={'class':'panel-body'})[2].find_all('p')[2].get_text()\n",
    "          com_date_list.append(com_date)\n",
    "\n",
    "        except IndexError:\n",
    "          try: \n",
    "            com_date = soup.find_all('div',attrs={'class':'panel-body'})[2].find_all('p')[1].get_text()\n",
    "            com_date_list.append(com_date)\n",
    "\n",
    "          except IndexError:\n",
    "            com_date = soup.find_all('div',attrs={'class':'panel-body'})[1].find_all('p')[1].get_text()\n",
    "            com_date_list.append(com_date)\n",
    "\n",
    "  count = count + 1\n",
    "  if count % 100 == 0:\n",
    "    print(count)"
   ]
  },
  {
   "attachments": {},
   "cell_type": "markdown",
   "metadata": {},
   "source": [
    "Creating dataframes and saving files as .csv"
   ]
  },
  {
   "cell_type": "code",
   "execution_count": null,
   "metadata": {},
   "outputs": [],
   "source": [
    "df_titles = pd.DataFrame(job_title_list, columns = ['title']) \n",
    "df_details = pd.DataFrame(job_detail_list, columns = ['details']) \n",
    "df_app = pd.DataFrame(app_date_list, columns = ['deadline']) \n",
    "df_opp = pd.DataFrame(opp_type_list, columns = ['opport_type']) \n",
    "df_com = pd.DataFrame(com_date_list, columns = ['commence_date']) \n",
    "df_con = pd.DataFrame(con_type_list, columns = ['contract_type'])\n",
    "df_comp = pd.DataFrame(company_list, columns = ['company'])\n",
    "\n",
    "#Concatenating the dataframes\n",
    "pdList = [df_titles, df_details,df_app,df_opp,df_com,df_con,df_comp]\n",
    "df_final = pd.concat(pdList,axis=1)\n",
    "df_final"
   ]
  },
  {
   "cell_type": "code",
   "execution_count": null,
   "metadata": {},
   "outputs": [],
   "source": [
    "df_final.to_csv('6622_dates.csv', encoding = 'utf-8-sig') "
   ]
  }
 ],
 "metadata": {
  "kernelspec": {
   "display_name": "base",
   "language": "python",
   "name": "python3"
  },
  "language_info": {
   "codemirror_mode": {
    "name": "ipython",
    "version": 3
   },
   "file_extension": ".py",
   "mimetype": "text/x-python",
   "name": "python",
   "nbconvert_exporter": "python",
   "pygments_lexer": "ipython3",
   "version": "3.7.6"
  },
  "orig_nbformat": 4,
  "vscode": {
   "interpreter": {
    "hash": "cd78fef2128015050713e82ca51c6520b11aee7c9ee8df750520bbbc7384cbaa"
   }
  }
 },
 "nbformat": 4,
 "nbformat_minor": 2
}
