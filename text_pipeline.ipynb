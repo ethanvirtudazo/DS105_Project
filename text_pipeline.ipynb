{
 "cells": [
  {
   "attachments": {},
   "cell_type": "markdown",
   "metadata": {},
   "source": [
    "Pipeline for Extracting Keywords from the dataset"
   ]
  },
  {
   "cell_type": "code",
   "execution_count": 4,
   "metadata": {},
   "outputs": [],
   "source": [
    "import pandas as pd\n",
    "import spacy\n",
    "from fuzzywuzzy import fuzz\n",
    "from fuzzywuzzy import process\n",
    "import numpy as np"
   ]
  },
  {
   "cell_type": "code",
   "execution_count": 6,
   "metadata": {},
   "outputs": [
    {
     "data": {
      "text/plain": [
       "(6623, 11)"
      ]
     },
     "execution_count": 6,
     "metadata": {},
     "output_type": "execute_result"
    }
   ],
   "source": [
    "nlp = spacy.load(\"en_core_web_sm\")\n",
    "\n",
    "path = \"/Users/ethanvirtudazo/Desktop/DS105_Dataset/6622_jobs.xls\"\n",
    "df_import = pd.read_excel(path)\n",
    "\n",
    "df_import.shape\n"
   ]
  },
  {
   "cell_type": "code",
   "execution_count": 8,
   "metadata": {},
   "outputs": [
    {
     "name": "stdout",
     "output_type": "stream",
     "text": [
      "title                  object\n",
      "details                object\n",
      "deadline       datetime64[ns]\n",
      "opport_type            object\n",
      "location               object\n",
      "company                object\n",
      "links                  object\n",
      "dtype: object\n"
     ]
    },
    {
     "data": {
      "text/html": [
       "<div>\n",
       "<style scoped>\n",
       "    .dataframe tbody tr th:only-of-type {\n",
       "        vertical-align: middle;\n",
       "    }\n",
       "\n",
       "    .dataframe tbody tr th {\n",
       "        vertical-align: top;\n",
       "    }\n",
       "\n",
       "    .dataframe thead th {\n",
       "        text-align: right;\n",
       "    }\n",
       "</style>\n",
       "<table border=\"1\" class=\"dataframe\">\n",
       "  <thead>\n",
       "    <tr style=\"text-align: right;\">\n",
       "      <th></th>\n",
       "      <th>title</th>\n",
       "      <th>details</th>\n",
       "      <th>links</th>\n",
       "    </tr>\n",
       "  </thead>\n",
       "  <tbody>\n",
       "    <tr>\n",
       "      <th>0</th>\n",
       "      <td>Rothschild &amp; Co - Private Equity Long-Term Int...</td>\n",
       "      <td>This London-based 6-month internship is an exc...</td>\n",
       "      <td>https://careers.lse.ac.uk//students/jobs/detai...</td>\n",
       "    </tr>\n",
       "    <tr>\n",
       "      <th>1</th>\n",
       "      <td>2023 HSBC Global Graduate Programme (Hong Kong...</td>\n",
       "      <td>You’re excited about starting your career and ...</td>\n",
       "      <td>https://careers.lse.ac.uk//students/jobs/detai...</td>\n",
       "    </tr>\n",
       "    <tr>\n",
       "      <th>2</th>\n",
       "      <td>2023 HSBC Global Internship Programme (Hong Ko...</td>\n",
       "      <td>You’re excited about starting your career and ...</td>\n",
       "      <td>https://careers.lse.ac.uk//students/jobs/detai...</td>\n",
       "    </tr>\n",
       "    <tr>\n",
       "      <th>3</th>\n",
       "      <td>Graduate Training Scheme, Capital Markets</td>\n",
       "      <td>Graduate Training Scheme – LondonGreySpark Par...</td>\n",
       "      <td>https://careers.lse.ac.uk//students/jobs/detai...</td>\n",
       "    </tr>\n",
       "    <tr>\n",
       "      <th>4</th>\n",
       "      <td>6-Months Internship – Sell-side Tech M&amp;A</td>\n",
       "      <td>At IPTP, we understand software from decades o...</td>\n",
       "      <td>https://careers.lse.ac.uk//students/jobs/detai...</td>\n",
       "    </tr>\n",
       "  </tbody>\n",
       "</table>\n",
       "</div>"
      ],
      "text/plain": [
       "                                               title  \\\n",
       "0  Rothschild & Co - Private Equity Long-Term Int...   \n",
       "1  2023 HSBC Global Graduate Programme (Hong Kong...   \n",
       "2  2023 HSBC Global Internship Programme (Hong Ko...   \n",
       "3         Graduate Training Scheme, Capital Markets    \n",
       "4           6-Months Internship – Sell-side Tech M&A   \n",
       "\n",
       "                                             details  \\\n",
       "0  This London-based 6-month internship is an exc...   \n",
       "1  You’re excited about starting your career and ...   \n",
       "2  You’re excited about starting your career and ...   \n",
       "3  Graduate Training Scheme – LondonGreySpark Par...   \n",
       "4  At IPTP, we understand software from decades o...   \n",
       "\n",
       "                                               links  \n",
       "0  https://careers.lse.ac.uk//students/jobs/detai...  \n",
       "1  https://careers.lse.ac.uk//students/jobs/detai...  \n",
       "2  https://careers.lse.ac.uk//students/jobs/detai...  \n",
       "3  https://careers.lse.ac.uk//students/jobs/detai...  \n",
       "4  https://careers.lse.ac.uk//students/jobs/detai...  "
      ]
     },
     "execution_count": 8,
     "metadata": {},
     "output_type": "execute_result"
    }
   ],
   "source": [
    "\n",
    "df1 = df_import.iloc[:, 1:5]\n",
    "df1.head()\n",
    "\n",
    "df2 = df_import.iloc[:, [7,9,10]]\n",
    "df2.head()\n",
    "\n",
    "pdList = [df1,df2]\n",
    "df = pd.concat(pdList,axis=1)\n",
    "df.head()\n",
    "\n",
    "df.shape\n",
    "\n",
    "types = df.dtypes\n",
    "print(types)\n",
    "\n",
    "df_text = df.iloc[:, [0,1,6]]\n",
    "df_text.head()"
   ]
  }
 ],
 "metadata": {
  "kernelspec": {
   "display_name": "base",
   "language": "python",
   "name": "python3"
  },
  "language_info": {
   "codemirror_mode": {
    "name": "ipython",
    "version": 3
   },
   "file_extension": ".py",
   "mimetype": "text/x-python",
   "name": "python",
   "nbconvert_exporter": "python",
   "pygments_lexer": "ipython3",
   "version": "3.7.6 (default, Jan  8 2020, 13:42:34) \n[Clang 4.0.1 (tags/RELEASE_401/final)]"
  },
  "orig_nbformat": 4,
  "vscode": {
   "interpreter": {
    "hash": "cd78fef2128015050713e82ca51c6520b11aee7c9ee8df750520bbbc7384cbaa"
   }
  }
 },
 "nbformat": 4,
 "nbformat_minor": 2
}
