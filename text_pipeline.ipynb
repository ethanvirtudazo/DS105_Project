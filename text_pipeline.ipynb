{
 "cells": [
  {
   "attachments": {},
   "cell_type": "markdown",
   "metadata": {},
   "source": [
    "Pipeline for Extracting Keywords from the dataset"
   ]
  },
  {
   "cell_type": "code",
   "execution_count": 1,
   "metadata": {},
   "outputs": [],
   "source": [
    "import pandas as pd\n",
    "import spacy\n",
    "from fuzzywuzzy import fuzz\n",
    "from fuzzywuzzy import process\n",
    "import numpy as np"
   ]
  },
  {
   "cell_type": "code",
   "execution_count": 2,
   "metadata": {},
   "outputs": [
    {
     "data": {
      "text/plain": [
       "(6623, 11)"
      ]
     },
     "execution_count": 2,
     "metadata": {},
     "output_type": "execute_result"
    }
   ],
   "source": [
    "nlp = spacy.load(\"en_core_web_sm\")\n",
    "\n",
    "path = \"/Users/ethanvirtudazo/Desktop/DS105_Dataset/6622_jobs.xls\"\n",
    "df_import = pd.read_excel(path)\n",
    "\n",
    "df_import.shape"
   ]
  },
  {
   "cell_type": "code",
   "execution_count": 3,
   "metadata": {},
   "outputs": [
    {
     "data": {
      "text/html": [
       "<div>\n",
       "<style scoped>\n",
       "    .dataframe tbody tr th:only-of-type {\n",
       "        vertical-align: middle;\n",
       "    }\n",
       "\n",
       "    .dataframe tbody tr th {\n",
       "        vertical-align: top;\n",
       "    }\n",
       "\n",
       "    .dataframe thead th {\n",
       "        text-align: right;\n",
       "    }\n",
       "</style>\n",
       "<table border=\"1\" class=\"dataframe\">\n",
       "  <thead>\n",
       "    <tr style=\"text-align: right;\">\n",
       "      <th></th>\n",
       "      <th>Unnamed: 0</th>\n",
       "      <th>title</th>\n",
       "      <th>details</th>\n",
       "      <th>deadline</th>\n",
       "      <th>opport_type</th>\n",
       "      <th>commence_date</th>\n",
       "      <th>contract_type</th>\n",
       "      <th>location</th>\n",
       "      <th>Renumeration</th>\n",
       "      <th>company</th>\n",
       "      <th>links</th>\n",
       "    </tr>\n",
       "  </thead>\n",
       "  <tbody>\n",
       "    <tr>\n",
       "      <th>0</th>\n",
       "      <td>0</td>\n",
       "      <td>Rothschild &amp; Co - Private Equity Long-Term Int...</td>\n",
       "      <td>This London-based 6-month internship is an exc...</td>\n",
       "      <td>2023-04-30</td>\n",
       "      <td>Internship</td>\n",
       "      <td>2023-07-01 00:00:00</td>\n",
       "      <td>Temporary</td>\n",
       "      <td>London</td>\n",
       "      <td>NaN</td>\n",
       "      <td>Rothschild &amp; Co</td>\n",
       "      <td>https://careers.lse.ac.uk//students/jobs/detai...</td>\n",
       "    </tr>\n",
       "    <tr>\n",
       "      <th>1</th>\n",
       "      <td>1</td>\n",
       "      <td>2023 HSBC Global Graduate Programme (Hong Kong...</td>\n",
       "      <td>You’re excited about starting your career and ...</td>\n",
       "      <td>2023-01-06</td>\n",
       "      <td>Graduate employment</td>\n",
       "      <td>2023-07-03 00:00:00</td>\n",
       "      <td>Temporary</td>\n",
       "      <td>Hong KongSingapore</td>\n",
       "      <td>NaN</td>\n",
       "      <td>HSBC (HSBC) - Hong Kong</td>\n",
       "      <td>https://careers.lse.ac.uk//students/jobs/detai...</td>\n",
       "    </tr>\n",
       "  </tbody>\n",
       "</table>\n",
       "</div>"
      ],
      "text/plain": [
       "   Unnamed: 0                                              title  \\\n",
       "0           0  Rothschild & Co - Private Equity Long-Term Int...   \n",
       "1           1  2023 HSBC Global Graduate Programme (Hong Kong...   \n",
       "\n",
       "                                             details   deadline  \\\n",
       "0  This London-based 6-month internship is an exc... 2023-04-30   \n",
       "1  You’re excited about starting your career and ... 2023-01-06   \n",
       "\n",
       "           opport_type        commence_date contract_type            location  \\\n",
       "0           Internship  2023-07-01 00:00:00     Temporary              London   \n",
       "1  Graduate employment  2023-07-03 00:00:00     Temporary  Hong KongSingapore   \n",
       "\n",
       "  Renumeration                  company  \\\n",
       "0          NaN          Rothschild & Co   \n",
       "1          NaN  HSBC (HSBC) - Hong Kong   \n",
       "\n",
       "                                               links  \n",
       "0  https://careers.lse.ac.uk//students/jobs/detai...  \n",
       "1  https://careers.lse.ac.uk//students/jobs/detai...  "
      ]
     },
     "execution_count": 3,
     "metadata": {},
     "output_type": "execute_result"
    }
   ],
   "source": [
    "df_import.head(2)"
   ]
  },
  {
   "cell_type": "code",
   "execution_count": 4,
   "metadata": {},
   "outputs": [
    {
     "name": "stdout",
     "output_type": "stream",
     "text": [
      "title                  object\n",
      "details                object\n",
      "deadline       datetime64[ns]\n",
      "opport_type            object\n",
      "location               object\n",
      "company                object\n",
      "links                  object\n",
      "dtype: object\n"
     ]
    },
    {
     "data": {
      "text/html": [
       "<div>\n",
       "<style scoped>\n",
       "    .dataframe tbody tr th:only-of-type {\n",
       "        vertical-align: middle;\n",
       "    }\n",
       "\n",
       "    .dataframe tbody tr th {\n",
       "        vertical-align: top;\n",
       "    }\n",
       "\n",
       "    .dataframe thead th {\n",
       "        text-align: right;\n",
       "    }\n",
       "</style>\n",
       "<table border=\"1\" class=\"dataframe\">\n",
       "  <thead>\n",
       "    <tr style=\"text-align: right;\">\n",
       "      <th></th>\n",
       "      <th>title</th>\n",
       "      <th>details</th>\n",
       "    </tr>\n",
       "  </thead>\n",
       "  <tbody>\n",
       "    <tr>\n",
       "      <th>0</th>\n",
       "      <td>Rothschild &amp; Co - Private Equity Long-Term Int...</td>\n",
       "      <td>This London-based 6-month internship is an exc...</td>\n",
       "    </tr>\n",
       "    <tr>\n",
       "      <th>1</th>\n",
       "      <td>2023 HSBC Global Graduate Programme (Hong Kong...</td>\n",
       "      <td>You’re excited about starting your career and ...</td>\n",
       "    </tr>\n",
       "    <tr>\n",
       "      <th>2</th>\n",
       "      <td>2023 HSBC Global Internship Programme (Hong Ko...</td>\n",
       "      <td>You’re excited about starting your career and ...</td>\n",
       "    </tr>\n",
       "    <tr>\n",
       "      <th>3</th>\n",
       "      <td>Graduate Training Scheme, Capital Markets</td>\n",
       "      <td>Graduate Training Scheme – LondonGreySpark Par...</td>\n",
       "    </tr>\n",
       "    <tr>\n",
       "      <th>4</th>\n",
       "      <td>6-Months Internship – Sell-side Tech M&amp;A</td>\n",
       "      <td>At IPTP, we understand software from decades o...</td>\n",
       "    </tr>\n",
       "  </tbody>\n",
       "</table>\n",
       "</div>"
      ],
      "text/plain": [
       "                                               title  \\\n",
       "0  Rothschild & Co - Private Equity Long-Term Int...   \n",
       "1  2023 HSBC Global Graduate Programme (Hong Kong...   \n",
       "2  2023 HSBC Global Internship Programme (Hong Ko...   \n",
       "3         Graduate Training Scheme, Capital Markets    \n",
       "4           6-Months Internship – Sell-side Tech M&A   \n",
       "\n",
       "                                             details  \n",
       "0  This London-based 6-month internship is an exc...  \n",
       "1  You’re excited about starting your career and ...  \n",
       "2  You’re excited about starting your career and ...  \n",
       "3  Graduate Training Scheme – LondonGreySpark Par...  \n",
       "4  At IPTP, we understand software from decades o...  "
      ]
     },
     "execution_count": 4,
     "metadata": {},
     "output_type": "execute_result"
    }
   ],
   "source": [
    "df1 = df_import.iloc[:, 1:5]\n",
    "df1.head()\n",
    "\n",
    "df2 = df_import.iloc[:, [7,9,10]]\n",
    "df2.head()\n",
    "\n",
    "pdList = [df1,df2]\n",
    "df = pd.concat(pdList,axis=1)\n",
    "df.head()\n",
    "\n",
    "df.shape\n",
    "\n",
    "types = df.dtypes\n",
    "print(types)\n",
    "\n",
    "df_title = df.iloc[:,0]\n",
    "df_text_both = df.iloc[:, [0,1]]\n",
    "df_text = df.iloc[:, [1]]\n",
    "\n",
    "df_text_both.head()\n"
   ]
  },
  {
   "cell_type": "code",
   "execution_count": 5,
   "metadata": {},
   "outputs": [
    {
     "data": {
      "text/html": [
       "<div>\n",
       "<style scoped>\n",
       "    .dataframe tbody tr th:only-of-type {\n",
       "        vertical-align: middle;\n",
       "    }\n",
       "\n",
       "    .dataframe tbody tr th {\n",
       "        vertical-align: top;\n",
       "    }\n",
       "\n",
       "    .dataframe thead th {\n",
       "        text-align: right;\n",
       "    }\n",
       "</style>\n",
       "<table border=\"1\" class=\"dataframe\">\n",
       "  <thead>\n",
       "    <tr style=\"text-align: right;\">\n",
       "      <th></th>\n",
       "      <th>details</th>\n",
       "    </tr>\n",
       "  </thead>\n",
       "  <tbody>\n",
       "    <tr>\n",
       "      <th>0</th>\n",
       "      <td>This London-based 6-month internship is an exc...</td>\n",
       "    </tr>\n",
       "    <tr>\n",
       "      <th>1</th>\n",
       "      <td>You’re excited about starting your career and ...</td>\n",
       "    </tr>\n",
       "    <tr>\n",
       "      <th>2</th>\n",
       "      <td>You’re excited about starting your career and ...</td>\n",
       "    </tr>\n",
       "    <tr>\n",
       "      <th>3</th>\n",
       "      <td>Graduate Training Scheme – LondonGreySpark Par...</td>\n",
       "    </tr>\n",
       "    <tr>\n",
       "      <th>4</th>\n",
       "      <td>At IPTP, we understand software from decades o...</td>\n",
       "    </tr>\n",
       "  </tbody>\n",
       "</table>\n",
       "</div>"
      ],
      "text/plain": [
       "                                             details\n",
       "0  This London-based 6-month internship is an exc...\n",
       "1  You’re excited about starting your career and ...\n",
       "2  You’re excited about starting your career and ...\n",
       "3  Graduate Training Scheme – LondonGreySpark Par...\n",
       "4  At IPTP, we understand software from decades o..."
      ]
     },
     "execution_count": 5,
     "metadata": {},
     "output_type": "execute_result"
    }
   ],
   "source": [
    "df_text.head()"
   ]
  },
  {
   "cell_type": "code",
   "execution_count": 6,
   "metadata": {},
   "outputs": [
    {
     "data": {
      "text/plain": [
       "pandas.core.frame.DataFrame"
      ]
     },
     "execution_count": 6,
     "metadata": {},
     "output_type": "execute_result"
    }
   ],
   "source": [
    "type(df_text)"
   ]
  },
  {
   "cell_type": "code",
   "execution_count": 7,
   "metadata": {},
   "outputs": [
    {
     "data": {
      "text/plain": [
       "101"
      ]
     },
     "execution_count": 7,
     "metadata": {},
     "output_type": "execute_result"
    }
   ],
   "source": [
    "#ar_text = df_text.to_numpy()\n",
    "#ar_text = ar_text[:101]\n",
    "\n",
    "df_text_1 = df_text[:101]\n",
    "len(df_text_1)"
   ]
  },
  {
   "cell_type": "code",
   "execution_count": 8,
   "metadata": {},
   "outputs": [
    {
     "data": {
      "text/plain": [
       "101"
      ]
     },
     "execution_count": 8,
     "metadata": {},
     "output_type": "execute_result"
    }
   ],
   "source": [
    "# Converting text data of the sample data into nlp object called 'document'\n",
    "\n",
    "#txt_lst = df_text['details'].tolist()\n",
    "\n",
    "docs_1 = df_text_1['details'].apply(nlp)\n",
    "len(docs_1)"
   ]
  },
  {
   "cell_type": "code",
   "execution_count": 9,
   "metadata": {},
   "outputs": [
    {
     "data": {
      "text/plain": [
       "This London-based 6-month internship is an exciting opportunity to intern with Rothschild & Co's European corporate private equity business. Rothschild & Co’s European corporate private equity business is comprised of three strategies: Five Arrows Principal Investments (FAPI), Five Arrows Growth Capital (FAGC), and Five Arrows Long Term Fund (FALT). FAPI manages c. €1.3 billion through its latest fund and is the flagship corporate private equity / buy-out vehicle investing in mid-cap companies, while FAGC manages c. €500 million through growth investments and small-cap buy-outs, and FALT makes investments in larger companies with the option for longer-term holding periods. All three funds are focused on investments within Western Europe (with FALT additionally on North America) and primarily invest in three main verticals: Data & Software, Healthcare, and Technology-enabled Business Services. The respective teams are based in London, Paris and Luxembourg and are comprised of c. 30 investment professionals originating from 12 countries.  Responsibilities ·Researching the industries in which our potential targets for investments operate, using all sources of information ·Identifying and evaluating investment opportunities ·Preparing financial models and investment committee memos ·Developing and maintaining standard or bespoke financial models ·Assisting with deal execution processes and monitoring of existing portfolio companies ·Developing and communicating a point of view on where/how value is created and the most actionable opportunities which meet the Fund’s risk-adjusted return criteria ·Supporting the team in co-ordinating the due diligence and transaction processes both internally and with other advisers ·Developing relationship skills through exposure to senior bankers and investment committee members  Skills required ·Teamwork: ability to build effective relationships between individuals, teams, lines of business and across geographical/cultural boundaries ·Communication: ability to communicate clearly, persuade and influence ·Good listening skills ·Ability to be proactive, persevere, and overcome setbacks and deliver results ·Ability to work independently and take a high level of responsibility ·Understanding of the fundamental principles and the application of corporate finance ·Enthusiasm for developing these skills and applying these skills creatively ·Ability to build long term, professional relationships with management teams and advisors that add value ·Advanced Microsoft Office skills (Word, PowerPoint and Excel)  Qualifications ·Outstanding academic track record (2:1 or above; obtained or expected) ·Previous experience at either a leading investment bank (M&A, Leveraged Finance, ECM), private equity firm, or top tier strategy consulting firm"
      ]
     },
     "execution_count": 9,
     "metadata": {},
     "output_type": "execute_result"
    }
   ],
   "source": [
    "# Viewing specific nlp doc\n",
    "docs_1[0]"
   ]
  },
  {
   "cell_type": "code",
   "execution_count": 10,
   "metadata": {},
   "outputs": [
    {
     "data": {
      "text/html": [
       "<span class=\"tex2jax_ignore\"><div class=\"entities\" style=\"line-height: 2.5; direction: ltr\">\n",
       "<mark class=\"entity\" style=\"background: #7aecec; padding: 0.45em 0.6em; margin: 0 0.25em; line-height: 1; border-radius: 0.35em;\">\n",
       "    Group Audit\n",
       "    <span style=\"font-size: 0.8em; font-weight: bold; line-height: 1; border-radius: 0.35em; vertical-align: middle; margin-left: 0.5rem\">ORG</span>\n",
       "</mark>\n",
       " is looking for an intern who can join the team as soon as possible. The group delivers services on behalf of \n",
       "<mark class=\"entity\" style=\"background: #7aecec; padding: 0.45em 0.6em; margin: 0 0.25em; line-height: 1; border-radius: 0.35em;\">\n",
       "    the Board of Managing Directors\n",
       "    <span style=\"font-size: 0.8em; font-weight: bold; line-height: 1; border-radius: 0.35em; vertical-align: middle; margin-left: 0.5rem\">ORG</span>\n",
       "</mark>\n",
       " as an independent, objective and risk-oriented assurance (audit) and consultant activity, which is designed to optimise the operations of \n",
       "<mark class=\"entity\" style=\"background: #7aecec; padding: 0.45em 0.6em; margin: 0 0.25em; line-height: 1; border-radius: 0.35em;\">\n",
       "    the Commerzbank Group\n",
       "    <span style=\"font-size: 0.8em; font-weight: bold; line-height: 1; border-radius: 0.35em; vertical-align: middle; margin-left: 0.5rem\">ORG</span>\n",
       "</mark>\n",
       " with regard to correctness, security and economic efficiency. The Group Audit London team mainly focuses on auditing the trading and sales business of \n",
       "<mark class=\"entity\" style=\"background: #7aecec; padding: 0.45em 0.6em; margin: 0 0.25em; line-height: 1; border-radius: 0.35em;\">\n",
       "    Commerzbank Corporates Clients\n",
       "    <span style=\"font-size: 0.8em; font-weight: bold; line-height: 1; border-radius: 0.35em; vertical-align: middle; margin-left: 0.5rem\">ORG</span>\n",
       "</mark>\n",
       ", as well as advisory and structuring activities, and related \n",
       "<mark class=\"entity\" style=\"background: #7aecec; padding: 0.45em 0.6em; margin: 0 0.25em; line-height: 1; border-radius: 0.35em;\">\n",
       "    Support and Risk Management\n",
       "    <span style=\"font-size: 0.8em; font-weight: bold; line-height: 1; border-radius: 0.35em; vertical-align: middle; margin-left: 0.5rem\">ORG</span>\n",
       "</mark>\n",
       " functions. The intern will be joining the team in \n",
       "<mark class=\"entity\" style=\"background: #feca74; padding: 0.45em 0.6em; margin: 0 0.25em; line-height: 1; border-radius: 0.35em;\">\n",
       "    London\n",
       "    <span style=\"font-size: 0.8em; font-weight: bold; line-height: 1; border-radius: 0.35em; vertical-align: middle; margin-left: 0.5rem\">GPE</span>\n",
       "</mark>\n",
       " and assist the junior/senior auditors in carrying out internal audit testing across trading and sales business.Key activities:You will have the opportunity to join \n",
       "<mark class=\"entity\" style=\"background: #e4e7d2; padding: 0.45em 0.6em; margin: 0 0.25em; line-height: 1; border-radius: 0.35em;\">\n",
       "    one\n",
       "    <span style=\"font-size: 0.8em; font-weight: bold; line-height: 1; border-radius: 0.35em; vertical-align: middle; margin-left: 0.5rem\">CARDINAL</span>\n",
       "</mark>\n",
       " of our audit teams and support more experienced auditors. The learning curve will be steep as you move from \n",
       "<mark class=\"entity\" style=\"background: #e4e7d2; padding: 0.45em 0.6em; margin: 0 0.25em; line-height: 1; border-radius: 0.35em;\">\n",
       "    one\n",
       "    <span style=\"font-size: 0.8em; font-weight: bold; line-height: 1; border-radius: 0.35em; vertical-align: middle; margin-left: 0.5rem\">CARDINAL</span>\n",
       "</mark>\n",
       " assignment to the next and will be exposed to a variety of products, processes and controls within the organisation. You’ll also meet other talented people from all over the world, enabling you to start building your own network. The role may involve travel.It is a unique opportunity to get a hands-on experience on the inner workings of a large organisation and a \n",
       "<mark class=\"entity\" style=\"background: #e4e7d2; padding: 0.45em 0.6em; margin: 0 0.25em; line-height: 1; border-radius: 0.35em;\">\n",
       "    first\n",
       "    <span style=\"font-size: 0.8em; font-weight: bold; line-height: 1; border-radius: 0.35em; vertical-align: middle; margin-left: 0.5rem\">ORDINAL</span>\n",
       "</mark>\n",
       " step in a possible career in investment banking.Start: \n",
       "<mark class=\"entity\" style=\"background: #7aecec; padding: 0.45em 0.6em; margin: 0 0.25em; line-height: 1; border-radius: 0.35em;\">\n",
       "    ASAPDuration\n",
       "    <span style=\"font-size: 0.8em; font-weight: bold; line-height: 1; border-radius: 0.35em; vertical-align: middle; margin-left: 0.5rem\">ORG</span>\n",
       "</mark>\n",
       ": \n",
       "<mark class=\"entity\" style=\"background: #bfe1d9; padding: 0.45em 0.6em; margin: 0 0.25em; line-height: 1; border-radius: 0.35em;\">\n",
       "    6 months\n",
       "    <span style=\"font-size: 0.8em; font-weight: bold; line-height: 1; border-radius: 0.35em; vertical-align: middle; margin-left: 0.5rem\">DATE</span>\n",
       "</mark>\n",
       " (with the possibility of extending to \n",
       "<mark class=\"entity\" style=\"background: #e4e7d2; padding: 0.45em 0.6em; margin: 0 0.25em; line-height: 1; border-radius: 0.35em;\">\n",
       "    12\n",
       "    <span style=\"font-size: 0.8em; font-weight: bold; line-height: 1; border-radius: 0.35em; vertical-align: middle; margin-left: 0.5rem\">CARDINAL</span>\n",
       "</mark>\n",
       " months)Ideal candidate profile:Graduated in \n",
       "<mark class=\"entity\" style=\"background: #bfe1d9; padding: 0.45em 0.6em; margin: 0 0.25em; line-height: 1; border-radius: 0.35em;\">\n",
       "    the last 12 months\n",
       "    <span style=\"font-size: 0.8em; font-weight: bold; line-height: 1; border-radius: 0.35em; vertical-align: middle; margin-left: 0.5rem\">DATE</span>\n",
       "</mark>\n",
       " or working towards graduation towards Bachelors or \n",
       "<mark class=\"entity\" style=\"background: #bfeeb7; padding: 0.45em 0.6em; margin: 0 0.25em; line-height: 1; border-radius: 0.35em;\">\n",
       "    Masters\n",
       "    <span style=\"font-size: 0.8em; font-weight: bold; line-height: 1; border-radius: 0.35em; vertical-align: middle; margin-left: 0.5rem\">PRODUCT</span>\n",
       "</mark>\n",
       " degree in a numerical subject such as \n",
       "<mark class=\"entity\" style=\"background: #7aecec; padding: 0.45em 0.6em; margin: 0 0.25em; line-height: 1; border-radius: 0.35em;\">\n",
       "    Finance\n",
       "    <span style=\"font-size: 0.8em; font-weight: bold; line-height: 1; border-radius: 0.35em; vertical-align: middle; margin-left: 0.5rem\">ORG</span>\n",
       "</mark>\n",
       ", \n",
       "<mark class=\"entity\" style=\"background: #7aecec; padding: 0.45em 0.6em; margin: 0 0.25em; line-height: 1; border-radius: 0.35em;\">\n",
       "    Economics or Business\n",
       "    <span style=\"font-size: 0.8em; font-weight: bold; line-height: 1; border-radius: 0.35em; vertical-align: middle; margin-left: 0.5rem\">ORG</span>\n",
       "</mark>\n",
       " administration.Expected to or have achieved a minimum \n",
       "<mark class=\"entity\" style=\"background: #e4e7d2; padding: 0.45em 0.6em; margin: 0 0.25em; line-height: 1; border-radius: 0.35em;\">\n",
       "    2:1\n",
       "    <span style=\"font-size: 0.8em; font-weight: bold; line-height: 1; border-radius: 0.35em; vertical-align: middle; margin-left: 0.5rem\">CARDINAL</span>\n",
       "</mark>\n",
       " \n",
       "<mark class=\"entity\" style=\"background: #feca74; padding: 0.45em 0.6em; margin: 0 0.25em; line-height: 1; border-radius: 0.35em;\">\n",
       "    UK\n",
       "    <span style=\"font-size: 0.8em; font-weight: bold; line-height: 1; border-radius: 0.35em; vertical-align: middle; margin-left: 0.5rem\">GPE</span>\n",
       "</mark>\n",
       " Bachelors degree (or equivalent)Minimum \n",
       "<mark class=\"entity\" style=\"background: #bfeeb7; padding: 0.45em 0.6em; margin: 0 0.25em; line-height: 1; border-radius: 0.35em;\">\n",
       "    320 UCAS\n",
       "    <span style=\"font-size: 0.8em; font-weight: bold; line-height: 1; border-radius: 0.35em; vertical-align: middle; margin-left: 0.5rem\">PRODUCT</span>\n",
       "</mark>\n",
       " points (or \n",
       "<mark class=\"entity\" style=\"background: #7aecec; padding: 0.45em 0.6em; margin: 0 0.25em; line-height: 1; border-radius: 0.35em;\">\n",
       "    equivalent)Knowledge of Microsoft Office\n",
       "    <span style=\"font-size: 0.8em; font-weight: bold; line-height: 1; border-radius: 0.35em; vertical-align: middle; margin-left: 0.5rem\">ORG</span>\n",
       "</mark>\n",
       " (especially excel and word)Understanding of financial markets and keen interest in the sectorSome business knowledge or previous internships within \n",
       "<mark class=\"entity\" style=\"background: #7aecec; padding: 0.45em 0.6em; margin: 0 0.25em; line-height: 1; border-radius: 0.35em;\">\n",
       "    Financial Services\n",
       "    <span style=\"font-size: 0.8em; font-weight: bold; line-height: 1; border-radius: 0.35em; vertical-align: middle; margin-left: 0.5rem\">ORG</span>\n",
       "</mark>\n",
       " but not essentialHighly motivated and results drivenExcellent analytical skills and able to deal confidently with peopleTeam playerStrong verbal and written communication skillsFluent \n",
       "<mark class=\"entity\" style=\"background: #7aecec; padding: 0.45em 0.6em; margin: 0 0.25em; line-height: 1; border-radius: 0.35em;\">\n",
       "    EnglishGerman\n",
       "    <span style=\"font-size: 0.8em; font-weight: bold; line-height: 1; border-radius: 0.35em; vertical-align: middle; margin-left: 0.5rem\">ORG</span>\n",
       "</mark>\n",
       " could be an advantage.</br></div></span>"
      ],
      "text/plain": [
       "<IPython.core.display.HTML object>"
      ]
     },
     "metadata": {},
     "output_type": "display_data"
    }
   ],
   "source": [
    "#Individual Job View of NER \n",
    "# NER = Name Entity Recognition\n",
    "rend_doc_1 = docs_1[73]\n",
    "\n",
    "from spacy import displacy\n",
    "displacy.render(rend_doc_1,style=\"ent\")"
   ]
  },
  {
   "attachments": {},
   "cell_type": "markdown",
   "metadata": {},
   "source": [
    "Part-of-Speech Filter"
   ]
  },
  {
   "cell_type": "code",
   "execution_count": 11,
   "metadata": {},
   "outputs": [
    {
     "data": {
      "text/plain": [
       "101"
      ]
     },
     "execution_count": 11,
     "metadata": {},
     "output_type": "execute_result"
    }
   ],
   "source": [
    "filtered_docs_1 = list([[token.text for token in doc if token.pos_ in ['PROPN', 'NOUN','ADJ']] for doc in docs_1])\n",
    "len(filtered_docs_1)"
   ]
  },
  {
   "cell_type": "code",
   "execution_count": 12,
   "metadata": {},
   "outputs": [
    {
     "data": {
      "text/plain": [
       "['London',\n",
       " 'month',\n",
       " 'internship',\n",
       " 'exciting',\n",
       " 'opportunity',\n",
       " 'Rothschild',\n",
       " 'Co',\n",
       " 'European',\n",
       " 'corporate',\n",
       " 'private',\n",
       " 'equity',\n",
       " 'business',\n",
       " 'Rothschild',\n",
       " 'Co',\n",
       " 'European',\n",
       " 'corporate',\n",
       " 'private',\n",
       " 'equity',\n",
       " 'business',\n",
       " 'strategies',\n",
       " 'Arrows',\n",
       " 'Principal',\n",
       " 'Investments',\n",
       " 'FAPI',\n",
       " 'Arrows',\n",
       " 'Growth',\n",
       " 'Capital',\n",
       " 'FAGC',\n",
       " 'Arrows',\n",
       " 'Long',\n",
       " 'Term',\n",
       " 'Fund',\n",
       " 'FALT',\n",
       " 'FAPI',\n",
       " 'c.',\n",
       " 'latest',\n",
       " 'fund',\n",
       " 'flagship',\n",
       " 'corporate',\n",
       " 'private',\n",
       " 'equity',\n",
       " 'vehicle',\n",
       " 'mid',\n",
       " '-',\n",
       " 'cap',\n",
       " 'companies',\n",
       " 'FAGC',\n",
       " 'c.',\n",
       " 'growth',\n",
       " 'investments',\n",
       " 'small',\n",
       " 'cap',\n",
       " 'buy',\n",
       " 'outs',\n",
       " 'FALT',\n",
       " 'investments',\n",
       " 'larger',\n",
       " 'companies',\n",
       " 'option',\n",
       " 'longer',\n",
       " 'term',\n",
       " 'holding',\n",
       " 'periods',\n",
       " 'funds',\n",
       " 'investments',\n",
       " 'Western',\n",
       " 'Europe',\n",
       " 'FALT',\n",
       " 'North',\n",
       " 'America',\n",
       " 'main',\n",
       " 'verticals',\n",
       " 'Data',\n",
       " 'Software',\n",
       " 'Healthcare',\n",
       " 'Technology',\n",
       " 'Business',\n",
       " 'Services',\n",
       " 'respective',\n",
       " 'teams',\n",
       " 'London',\n",
       " 'Paris',\n",
       " 'Luxembourg',\n",
       " 'c.',\n",
       " 'investment',\n",
       " 'professionals',\n",
       " 'countries',\n",
       " 'Responsibilities',\n",
       " 'industries',\n",
       " 'potential',\n",
       " 'targets',\n",
       " 'investments',\n",
       " 'sources',\n",
       " 'information',\n",
       " 'Identifying',\n",
       " 'investment',\n",
       " 'opportunities',\n",
       " 'financial',\n",
       " 'models',\n",
       " 'investment',\n",
       " 'committee',\n",
       " 'memos',\n",
       " 'standard',\n",
       " 'financial',\n",
       " 'models',\n",
       " 'deal',\n",
       " 'execution',\n",
       " 'processes',\n",
       " 'monitoring',\n",
       " 'portfolio',\n",
       " 'companies',\n",
       " 'point',\n",
       " 'view',\n",
       " 'value',\n",
       " 'actionable',\n",
       " 'opportunities',\n",
       " 'Fund',\n",
       " 'risk',\n",
       " 'return',\n",
       " 'criteria',\n",
       " 'team',\n",
       " 'co',\n",
       " '-',\n",
       " 'due',\n",
       " 'diligence',\n",
       " 'transaction',\n",
       " 'processes',\n",
       " 'other',\n",
       " 'advisers',\n",
       " 'relationship',\n",
       " 'exposure',\n",
       " 'senior',\n",
       " 'bankers',\n",
       " 'investment',\n",
       " 'committee',\n",
       " 'members',\n",
       " 'Skills',\n",
       " 'Teamwork',\n",
       " 'ability',\n",
       " 'effective',\n",
       " 'relationships',\n",
       " 'individuals',\n",
       " 'teams',\n",
       " 'lines',\n",
       " 'business',\n",
       " 'geographical',\n",
       " 'cultural',\n",
       " 'boundaries',\n",
       " 'Communication',\n",
       " 'ability',\n",
       " 'influence',\n",
       " 'Good',\n",
       " 'listening',\n",
       " 'skills',\n",
       " 'Ability',\n",
       " 'proactive',\n",
       " 'persevere',\n",
       " 'setbacks',\n",
       " 'results',\n",
       " 'Ability',\n",
       " 'high',\n",
       " 'level',\n",
       " 'responsibility',\n",
       " 'Understanding',\n",
       " 'fundamental',\n",
       " 'principles',\n",
       " 'application',\n",
       " 'corporate',\n",
       " 'finance',\n",
       " 'Enthusiasm',\n",
       " 'skills',\n",
       " 'skills',\n",
       " 'Ability',\n",
       " 'long',\n",
       " 'term',\n",
       " 'professional',\n",
       " 'relationships',\n",
       " 'management',\n",
       " 'teams',\n",
       " 'advisors',\n",
       " 'value',\n",
       " 'Advanced',\n",
       " 'Microsoft',\n",
       " 'Office',\n",
       " 'skills',\n",
       " 'Word',\n",
       " 'PowerPoint',\n",
       " 'Excel',\n",
       " 'Qualifications',\n",
       " 'Outstanding',\n",
       " 'academic',\n",
       " 'track',\n",
       " 'record',\n",
       " 'Previous',\n",
       " 'experience',\n",
       " 'investment',\n",
       " 'bank',\n",
       " 'M&A',\n",
       " 'Leveraged',\n",
       " 'Finance',\n",
       " 'ECM',\n",
       " 'private',\n",
       " 'equity',\n",
       " 'firm',\n",
       " 'top',\n",
       " 'tier',\n",
       " 'strategy',\n",
       " 'consulting',\n",
       " 'firm']"
      ]
     },
     "execution_count": 12,
     "metadata": {},
     "output_type": "execute_result"
    }
   ],
   "source": [
    "# Viewing first filtered list of tokens\n",
    "# words that are not proper nouns, nouns, or adjectives are removed from the documents.\n",
    "filtered_docs_1[0]"
   ]
  },
  {
   "cell_type": "code",
   "execution_count": 13,
   "metadata": {},
   "outputs": [],
   "source": [
    "# text_1 for testing\n",
    "text_1 = filtered_docs_1[0]"
   ]
  },
  {
   "cell_type": "code",
   "execution_count": 14,
   "metadata": {},
   "outputs": [
    {
     "data": {
      "text/plain": [
       "101"
      ]
     },
     "execution_count": 14,
     "metadata": {},
     "output_type": "execute_result"
    }
   ],
   "source": [
    "# Might not need this after all\n",
    "# join all tokens for each job into a single string\n",
    "fil_lst_1 = [' '.join(lst) for lst in filtered_docs_1]\n",
    "len(fil_lst_1)"
   ]
  },
  {
   "cell_type": "code",
   "execution_count": 15,
   "metadata": {},
   "outputs": [
    {
     "data": {
      "text/plain": [
       "str"
      ]
     },
     "execution_count": 15,
     "metadata": {},
     "output_type": "execute_result"
    }
   ],
   "source": [
    "type(fil_lst_1[0])"
   ]
  },
  {
   "cell_type": "code",
   "execution_count": 16,
   "metadata": {},
   "outputs": [
    {
     "data": {
      "text/plain": [
       "list"
      ]
     },
     "execution_count": 16,
     "metadata": {},
     "output_type": "execute_result"
    }
   ],
   "source": [
    "type(filtered_docs_1[0])"
   ]
  },
  {
   "attachments": {},
   "cell_type": "markdown",
   "metadata": {},
   "source": [
    "Dictionary Filter\n",
    "\n",
    "Technical/Hard Skills: \n",
    "\n",
    "1. IT Skills\n",
    "* MS Office \n",
    "    * PowerPoint\n",
    "    * Excel \n",
    "    * Word\n",
    "* Pages\n",
    "* Numbers\n",
    "2. Financial Modelling (Modeling)\n",
    "3. Programming\n",
    "* Java  \n",
    "* C# (C #)\n",
    "* C++ \n",
    "* SQL \n",
    "* NoSQL\n",
    "* Perl \n",
    "* JavaScript \n",
    "* HTML \n",
    "* CSS\n",
    "* Python\n",
    "* Java \n",
    "\n",
    "4. Data Platform Navigation and Utilisation:\n",
    "* FactSet\n",
    "* Bloomberg\n",
    "\n",
    "5. Technical Knowledge\n",
    "* Interest/Knowledge/Understanding in corporate finance/financial markets/finance/financial services\n",
    "\n",
    "6. Cognitive Ability\n",
    "* Analytical/Numerical/Quantitative skills/Problem-Solving\n",
    "\n",
    "\n",
    "Soft Skills\n",
    "1. Interpersonal \n",
    "* Communication\n",
    "* Presentation\n",
    "2. Project Management\n",
    "* Leadership\n",
    "* Attention to detail\n",
    "* Work under pressure\n",
    "\n",
    "\n",
    "\n",
    "\n",
    "\n"
   ]
  },
  {
   "cell_type": "code",
   "execution_count": 182,
   "metadata": {},
   "outputs": [
    {
     "name": "stdout",
     "output_type": "stream",
     "text": [
      "first 57\n"
     ]
    }
   ],
   "source": [
    "# Testing code with one string matching\n",
    "term_1 = 'Microsoft'\n",
    "match = process.extractOne(term_1,text_1,scorer = fuzz.ratio)\n",
    "word = match[0]\n",
    "fuzz_score = (fuzz.ratio(term_1,word))\n",
    "print(word,fuzz_score)"
   ]
  },
  {
   "cell_type": "code",
   "execution_count": 237,
   "metadata": {},
   "outputs": [],
   "source": [
    "# contains the list of strings for a particular job\n",
    "text_1 = filtered_docs_1[50]"
   ]
  },
  {
   "cell_type": "code",
   "execution_count": 179,
   "metadata": {},
   "outputs": [],
   "source": [
    "#setting the threshold \n",
    "score_cutoff = 75"
   ]
  },
  {
   "cell_type": "code",
   "execution_count": 255,
   "metadata": {},
   "outputs": [
    {
     "name": "stdout",
     "output_type": "stream",
     "text": [
      "[('MS', 100), ('Office', 100)]\n"
     ]
    }
   ],
   "source": [
    "#Filtering for IT Skills: Microsoft\n",
    "MS_keys = [\"Microsoft\",\"MS\",\"MS-Office\",\"Powerpoint\",\"Excel\"]\n",
    "\n",
    "MS_match = [match for match in [process.extractOne(key, text_1, scorer = fuzz.token_set_ratio, score_cutoff = score_cutoff) \n",
    "for key in MS_keys] if match is not None and match[1] >= score_cutoff]\n",
    "\n",
    "print(MS_match)"
   ]
  },
  {
   "cell_type": "code",
   "execution_count": 233,
   "metadata": {},
   "outputs": [
    {
     "name": "stdout",
     "output_type": "stream",
     "text": [
      "[('modelling', 100)]\n"
     ]
    }
   ],
   "source": [
    "#Filtering for Financial Modelling \n",
    "# assumption: occurence of 'modelling' string is in the context of 'financial modelling'\n",
    "FM_keys = [\"modelling\"]\n",
    "\n",
    "FM_match = [match for match in [process.extractOne(key, text_1, scorer = fuzz.token_set_ratio, score_cutoff = score_cutoff)\n",
    "for key in FM_keys] if match is not None and match[1] >= score_cutoff]\n",
    "\n",
    "print(FM_match)"
   ]
  },
  {
   "cell_type": "code",
   "execution_count": 181,
   "metadata": {},
   "outputs": [
    {
     "name": "stdout",
     "output_type": "stream",
     "text": [
      "[('Bloomberg', 89)]\n"
     ]
    }
   ],
   "source": [
    "#Filtering for Data Platform Skills: Bloomberg and/or FactSet\n",
    "DATA_keys = [\"Bloombreg\",\"FactSet\"]\n",
    "\n",
    "DATA_match = [match for match in [process.extractOne(key, text_1, scorer = fuzz.token_set_ratio, score_cutoff = score_cutoff) \n",
    "for key in DATA_keys] if match is not None and match[1] >= score_cutoff]\n",
    "\n",
    "print(DATA_match)"
   ]
  },
  {
   "attachments": {},
   "cell_type": "markdown",
   "metadata": {},
   "source": [
    "Filtering for Programming Skills: Python, SQL, Java, JavaScript, C++, C#"
   ]
  },
  {
   "cell_type": "code",
   "execution_count": 268,
   "metadata": {},
   "outputs": [
    {
     "name": "stdout",
     "output_type": "stream",
     "text": [
      "[]\n"
     ]
    }
   ],
   "source": [
    "# Programming: Python\n",
    "\n",
    "PY_keys = [\"Python\"]\n",
    "\n",
    "PY_match = [match for match in [process.extractOne(key, text_1, scorer = fuzz.token_set_ratio, score_cutoff = score_cutoff) \n",
    "for key in PY_keys] if match is not None and match[1] >= score_cutoff]\n",
    "print(PY_match)"
   ]
  },
  {
   "cell_type": "code",
   "execution_count": 231,
   "metadata": {},
   "outputs": [
    {
     "name": "stdout",
     "output_type": "stream",
     "text": [
      "[('SQL', 100), ('SQL', 75)]\n"
     ]
    }
   ],
   "source": [
    "# Programming: Databases\n",
    "\n",
    "SQL_keys = [\"SQL\",\"mySQL\"]\n",
    "\n",
    "SQL_match = [match for match in [process.extractOne(key, text_1, scorer = fuzz.token_set_ratio, score_cutoff = score_cutoff) \n",
    "for key in SQL_keys] if match is not None and match[1] >= score_cutoff]\n",
    "print(SQL_match)"
   ]
  },
  {
   "cell_type": "code",
   "execution_count": 234,
   "metadata": {},
   "outputs": [
    {
     "name": "stdout",
     "output_type": "stream",
     "text": [
      "[('R', 100)]\n"
     ]
    }
   ],
   "source": [
    "# Programming: R\n",
    "\n",
    "R_keys = [\"RStudio\", \"R\"]\n",
    "R_match = [match for match in [process.extractOne(key, text_1, scorer = fuzz.token_set_ratio, score_cutoff = score_cutoff) \n",
    "for key in R_keys] if match is not None and match[1] >= score_cutoff]\n",
    "print(R_match)"
   ]
  },
  {
   "cell_type": "code",
   "execution_count": 273,
   "metadata": {},
   "outputs": [
    {
     "name": "stdout",
     "output_type": "stream",
     "text": [
      "[('class', 75)]\n"
     ]
    }
   ],
   "source": [
    "# Programming: etc.\n",
    "# assumption for category: these programming languages occur less than Python, R, SQL, etc.\n",
    "\n",
    "PETC_keys = [\"C++\",\"C#\",\"JAVA\",\"JavaScript\",\"CSS\",\"HTML\",\"PERL\"]\n",
    "PETC_match = [match for match in [process.extractOne(key, text_1, scorer = fuzz.token_set_ratio, score_cutoff = score_cutoff) for key in PETC_keys] if match is not None and match[1] >= score_cutoff]\n",
    "print(PETC_match)"
   ]
  },
  {
   "cell_type": "code",
   "execution_count": 269,
   "metadata": {},
   "outputs": [
    {
     "name": "stdout",
     "output_type": "stream",
     "text": [
      "True\n"
     ]
    }
   ],
   "source": [
    "#return 0 or 1 based on if skills appear TEST\n",
    "\n",
    "PETC_keys = [\"C++\",\"C#\",\"JAVA\",\"JavaScript\",\"CSS\",\"HTML\",\"PERL\"]\n",
    "#PETC_match = [match for match in [process.extractOne(key, text_1, scorer = fuzz.token_set_ratio, score_cutoff = score_cutoff) for key in PETC_keys] if match is not None and match[1] >= score_cutoff]\n",
    "PETC_bool = bool([match for match in [process.extractOne(key, text_1, scorer = fuzz.token_set_ratio, score_cutoff = score_cutoff) for key in PETC_keys] if match is not None and match[1] >= score_cutoff])\n",
    "print(bool(PETC_match))"
   ]
  },
  {
   "cell_type": "code",
   "execution_count": 256,
   "metadata": {},
   "outputs": [],
   "source": [
    "tracker = pd.DataFrame()\n"
   ]
  },
  {
   "cell_type": "code",
   "execution_count": 257,
   "metadata": {},
   "outputs": [
    {
     "data": {
      "text/html": [
       "<div>\n",
       "<style scoped>\n",
       "    .dataframe tbody tr th:only-of-type {\n",
       "        vertical-align: middle;\n",
       "    }\n",
       "\n",
       "    .dataframe tbody tr th {\n",
       "        vertical-align: top;\n",
       "    }\n",
       "\n",
       "    .dataframe thead th {\n",
       "        text-align: right;\n",
       "    }\n",
       "</style>\n",
       "<table border=\"1\" class=\"dataframe\">\n",
       "  <thead>\n",
       "    <tr style=\"text-align: right;\">\n",
       "      <th></th>\n",
       "    </tr>\n",
       "  </thead>\n",
       "  <tbody>\n",
       "  </tbody>\n",
       "</table>\n",
       "</div>"
      ],
      "text/plain": [
       "Empty DataFrame\n",
       "Columns: []\n",
       "Index: []"
      ]
     },
     "execution_count": 257,
     "metadata": {},
     "output_type": "execute_result"
    }
   ],
   "source": [
    "tracker "
   ]
  },
  {
   "cell_type": "code",
   "execution_count": 271,
   "metadata": {},
   "outputs": [],
   "source": [
    "# Creating a function to pass the texts through\n",
    "\n",
    "def dict_filter_prot(text):\n",
    "    MS_match = [match for match in [process.extractOne(key, text, scorer = fuzz.token_set_ratio, score_cutoff = score_cutoff) for key in MS_keys] if match is not None and match[1] >= score_cutoff]\n",
    "    FM_match = [match for match in [process.extractOne(key, text, scorer = fuzz.token_set_ratio, score_cutoff = score_cutoff) for key in FM_keys] if match is not None and match[1] >= score_cutoff]\n",
    "    DATA_match = [match for match in [process.extractOne(key, text, scorer = fuzz.token_set_ratio, score_cutoff = score_cutoff) for key in DATA_keys] if match is not None and match[1] >= score_cutoff]\n",
    "    PY_match = [match for match in [process.extractOne(key, text, scorer = fuzz.token_set_ratio, score_cutoff = score_cutoff) for key in PY_keys] if match is not None and match[1] >= score_cutoff]\n",
    "    R_match = [match for match in [process.extractOne(key, text, scorer = fuzz.token_set_ratio, score_cutoff = score_cutoff) for key in R_keys] if match is not None and match[1] >= score_cutoff]\n",
    "    SQL_match = [match for match in [process.extractOne(key, text_1, scorer = fuzz.token_set_ratio, score_cutoff = score_cutoff) for key in SQL_keys] if match is not None and match[1] >= score_cutoff]\n",
    "    PETC_match = [match for match in [process.extractOne(key, text, scorer = fuzz.token_set_ratio, score_cutoff = score_cutoff) for key in PETC_keys] if match is not None and match[1] >= score_cutoff]\n",
    "\n",
    "    return(\n",
    "    MS_match,\n",
    "    FM_match,\n",
    "    DATA_match,\n",
    "    PY_match,\n",
    "    R_match,\n",
    "    SQL_match,\n",
    "    PETC_match)\n"
   ]
  },
  {
   "cell_type": "code",
   "execution_count": 274,
   "metadata": {},
   "outputs": [],
   "source": [
    "def dict_filter_prot_1(text):\n",
    "    MS = bool([match for match in [process.extractOne(key, text, scorer = fuzz.token_set_ratio, score_cutoff = score_cutoff) for key in MS_keys] if match is not None and match[1] >= score_cutoff])\n",
    "    FM = bool([match for match in [process.extractOne(key, text, scorer = fuzz.token_set_ratio, score_cutoff = score_cutoff) for key in FM_keys] if match is not None and match[1] >= score_cutoff])\n",
    "    DATA = bool([match for match in [process.extractOne(key, text, scorer = fuzz.token_set_ratio, score_cutoff = score_cutoff) for key in DATA_keys] if match is not None and match[1] >= score_cutoff])\n",
    "    PY = bool([match for match in [process.extractOne(key, text, scorer = fuzz.token_set_ratio, score_cutoff = score_cutoff) for key in PY_keys] if match is not None and match[1] >= score_cutoff])\n",
    "    R = bool([match for match in [process.extractOne(key, text, scorer = fuzz.token_set_ratio, score_cutoff = score_cutoff) for key in R_keys] if match is not None and match[1] >= score_cutoff])\n",
    "    SQL = bool([match for match in [process.extractOne(key, text_1, scorer = fuzz.token_set_ratio, score_cutoff = score_cutoff) for key in SQL_keys] if match is not None and match[1] >= score_cutoff])\n",
    "    PETC = bool([match for match in [process.extractOne(key, text, scorer = fuzz.token_set_ratio, score_cutoff = score_cutoff) for key in PETC_keys] if match is not None and match[1] >= score_cutoff])\n",
    "\n",
    "    return(\n",
    "    MS,\n",
    "    FM,\n",
    "    DATA,\n",
    "    PY,\n",
    "    R,\n",
    "    SQL,\n",
    "    PETC)"
   ]
  },
  {
   "cell_type": "code",
   "execution_count": 251,
   "metadata": {},
   "outputs": [
    {
     "data": {
      "text/plain": [
       "['Role',\n",
       " 'Fideres',\n",
       " 'corporate',\n",
       " 'financial',\n",
       " 'wrongdoing',\n",
       " 'advanced',\n",
       " 'quantitative',\n",
       " 'data',\n",
       " 'techniques',\n",
       " 'complex',\n",
       " 'disputes',\n",
       " 'competition',\n",
       " 'infringement',\n",
       " 'financial',\n",
       " 'markets',\n",
       " 'role',\n",
       " 'financial',\n",
       " 'projects',\n",
       " 'econometric',\n",
       " 'statistical',\n",
       " 'quantitative',\n",
       " 'modelling',\n",
       " 'expertise',\n",
       " 'databases',\n",
       " 'economic',\n",
       " 'financial',\n",
       " 'datasets',\n",
       " 'such',\n",
       " 'historical',\n",
       " 'holdings',\n",
       " 'news',\n",
       " 'prices',\n",
       " 'real',\n",
       " 'world',\n",
       " 'data',\n",
       " 'challenges',\n",
       " 'day',\n",
       " 'ideal',\n",
       " 'candidate',\n",
       " 'deep',\n",
       " 'interest',\n",
       " 'corporate',\n",
       " 'banking',\n",
       " 'institutions',\n",
       " 'malpractice',\n",
       " 'wrongdoing',\n",
       " 'passion',\n",
       " 'quantitative',\n",
       " 'data',\n",
       " 'analysis',\n",
       " 'processing',\n",
       " 'manipulation',\n",
       " 'management',\n",
       " 'long',\n",
       " 'term',\n",
       " 'role',\n",
       " 'opportunity',\n",
       " 'financial',\n",
       " 'market',\n",
       " 'expert',\n",
       " 'consultant',\n",
       " 'role',\n",
       " 'Key',\n",
       " 'ResponsibilitiesSome',\n",
       " 'notable',\n",
       " 'responsibilities',\n",
       " 'robust',\n",
       " 'rigorous',\n",
       " 'analysis',\n",
       " 'delivery',\n",
       " 'financial',\n",
       " 'securities',\n",
       " 'consultancy',\n",
       " 'projects',\n",
       " 'quantitative',\n",
       " 'analytical',\n",
       " 'techniques',\n",
       " 'large',\n",
       " 'datasets',\n",
       " 'Data',\n",
       " 'extraction',\n",
       " 'cleaning',\n",
       " 'processing',\n",
       " 'manipulation',\n",
       " 'management',\n",
       " 'data',\n",
       " 'heavy',\n",
       " 'projects',\n",
       " 'rigorous',\n",
       " 'quality',\n",
       " 'control',\n",
       " 'checks',\n",
       " 'lead',\n",
       " 'aspects',\n",
       " 'project',\n",
       " 'work',\n",
       " 'progression',\n",
       " 'projects',\n",
       " 'clients',\n",
       " 'stakeholders',\n",
       " 'timely',\n",
       " 'clear',\n",
       " 'concise',\n",
       " 'manner',\n",
       " 'enquiries',\n",
       " 'initiative',\n",
       " 'ways',\n",
       " 'quality',\n",
       " 'analysis',\n",
       " 'progression',\n",
       " 'new',\n",
       " 'business',\n",
       " 'opportunities',\n",
       " 'comprehensive',\n",
       " 'reports',\n",
       " 'key',\n",
       " 'findings',\n",
       " 'analysis',\n",
       " 'simple',\n",
       " 'succinct',\n",
       " 'mannerKey',\n",
       " 'Skills',\n",
       " 'AttributesThe',\n",
       " 'successful',\n",
       " 'candidate',\n",
       " 'strong',\n",
       " 'record',\n",
       " 'academic',\n",
       " 'achievement',\n",
       " 'relevant',\n",
       " 'degree(s',\n",
       " 'econometrics',\n",
       " 'statistics',\n",
       " 'other',\n",
       " 'quantitative',\n",
       " 'subjects',\n",
       " 'data',\n",
       " 'analysis',\n",
       " 'mathematics',\n",
       " 'Proficiency',\n",
       " 'standard',\n",
       " 'data',\n",
       " 'analysis',\n",
       " 'software',\n",
       " 'programming',\n",
       " 'experience',\n",
       " 'e.g.',\n",
       " 'R',\n",
       " 'Python',\n",
       " 'C',\n",
       " 'C++',\n",
       " 'SQL',\n",
       " 'VBA',\n",
       " 'Experience',\n",
       " 'data',\n",
       " 'hands',\n",
       " 'work',\n",
       " 'experience',\n",
       " 'complex',\n",
       " 'data',\n",
       " 'manipulation',\n",
       " 'management',\n",
       " 'analysis',\n",
       " 'Familiarity',\n",
       " 'programming',\n",
       " 'packages',\n",
       " 'such',\n",
       " 'data',\n",
       " 'analysis',\n",
       " 'timeseries',\n",
       " 'libraries',\n",
       " 'Pandas',\n",
       " 'array',\n",
       " 'mathematics',\n",
       " 'statistics',\n",
       " 'libraries',\n",
       " 'Numpy',\n",
       " 'SciPy',\n",
       " 'statsmodels',\n",
       " 'tools',\n",
       " 'BeautifulSoup',\n",
       " 'Scrapy',\n",
       " 'Selenium',\n",
       " 'PDF',\n",
       " 'documents',\n",
       " 'libraries',\n",
       " 'techniques',\n",
       " 'data',\n",
       " 'extraction',\n",
       " 'unstructured',\n",
       " 'semi',\n",
       " '-',\n",
       " 'structured',\n",
       " 'sources',\n",
       " 'regular',\n",
       " 'expressions',\n",
       " 'databases',\n",
       " 'Postgres',\n",
       " 'SQL',\n",
       " 'Solid',\n",
       " 'understanding',\n",
       " 'data',\n",
       " 'analysis',\n",
       " 'techniques',\n",
       " 'stochastics',\n",
       " 'statistical',\n",
       " 'inference',\n",
       " 'Attention',\n",
       " 'detail',\n",
       " 'commitment',\n",
       " 'extra',\n",
       " 'mile',\n",
       " 'rigorous',\n",
       " 'accurate',\n",
       " 'work',\n",
       " 'constraints',\n",
       " 'time',\n",
       " 'resources',\n",
       " 'available',\n",
       " 'Excellent',\n",
       " 'written',\n",
       " 'verbal',\n",
       " 'communication',\n",
       " 'ability',\n",
       " 'economic',\n",
       " 'concepts',\n",
       " 'quantitative',\n",
       " 'results',\n",
       " 'implications',\n",
       " 'non',\n",
       " '-',\n",
       " 'specialists',\n",
       " 'Integrity',\n",
       " 'creative',\n",
       " 'curious',\n",
       " 'mind',\n",
       " 'high',\n",
       " 'level',\n",
       " 'accountability',\n",
       " 'afraid',\n",
       " 'opinion',\n",
       " 'new',\n",
       " 'OfferYou',\n",
       " 'innovative',\n",
       " 'environment',\n",
       " 'training',\n",
       " 'development',\n",
       " 'top',\n",
       " 'agenda',\n",
       " 'staff',\n",
       " 'edge',\n",
       " 'academic',\n",
       " 'knowledge',\n",
       " 'rapid',\n",
       " 'career',\n",
       " 'progression',\n",
       " 'available',\n",
       " 'proactive',\n",
       " 'employees',\n",
       " 'opportunities',\n",
       " 'flexible',\n",
       " 'hours',\n",
       " 'hybrid',\n",
       " 'remote',\n",
       " 'working',\n",
       " 'competitive',\n",
       " 'salaries',\n",
       " 'bonuses',\n",
       " 'competitive',\n",
       " 'benefits',\n",
       " 'proud',\n",
       " 'values',\n",
       " 'diverse',\n",
       " 'international',\n",
       " 'workforce',\n",
       " 'committed',\n",
       " 'working',\n",
       " 'environment',\n",
       " 'employees',\n",
       " 'safe',\n",
       " 'welcome',\n",
       " 'able',\n",
       " 'open',\n",
       " 'respectful',\n",
       " 'dialogue',\n",
       " 'diversity',\n",
       " 'issues']"
      ]
     },
     "execution_count": 251,
     "metadata": {},
     "output_type": "execute_result"
    }
   ],
   "source": [
    "text = filtered_docs_1[50]\n",
    "text"
   ]
  },
  {
   "cell_type": "code",
   "execution_count": 264,
   "metadata": {},
   "outputs": [
    {
     "data": {
      "text/plain": [
       "([],\n",
       " [('modelling', 100)],\n",
       " [],\n",
       " [('Python', 100)],\n",
       " [('R', 100)],\n",
       " [],\n",
       " [('C', 100), ('C', 100)])"
      ]
     },
     "execution_count": 264,
     "metadata": {},
     "output_type": "execute_result"
    }
   ],
   "source": [
    "filtered = dict_filter(text)\n",
    "filtered"
   ]
  },
  {
   "cell_type": "code",
   "execution_count": 275,
   "metadata": {},
   "outputs": [
    {
     "data": {
      "text/plain": [
       "(False, True, False, True, True, False, True)"
      ]
     },
     "execution_count": 275,
     "metadata": {},
     "output_type": "execute_result"
    }
   ],
   "source": [
    "dict_filter_prot_1(text)"
   ]
  },
  {
   "cell_type": "code",
   "execution_count": null,
   "metadata": {},
   "outputs": [
    {
     "data": {
      "text/plain": [
       "pandas.core.frame.DataFrame"
      ]
     },
     "execution_count": 110,
     "metadata": {},
     "output_type": "execute_result"
    }
   ],
   "source": [
    "# CREATING DATAFRAME FOR R\n",
    "\n",
    "# 1 Turning titles \n",
    "df_title_r_1 = df_title[0:101]\n",
    "df_title_r_1 = pd.DataFrame(df_title_r_1)\n",
    "type(df_title_r_1)"
   ]
  },
  {
   "cell_type": "code",
   "execution_count": null,
   "metadata": {},
   "outputs": [
    {
     "data": {
      "text/html": [
       "<div>\n",
       "<style scoped>\n",
       "    .dataframe tbody tr th:only-of-type {\n",
       "        vertical-align: middle;\n",
       "    }\n",
       "\n",
       "    .dataframe tbody tr th {\n",
       "        vertical-align: top;\n",
       "    }\n",
       "\n",
       "    .dataframe thead th {\n",
       "        text-align: right;\n",
       "    }\n",
       "</style>\n",
       "<table border=\"1\" class=\"dataframe\">\n",
       "  <thead>\n",
       "    <tr style=\"text-align: right;\">\n",
       "      <th></th>\n",
       "      <th>title</th>\n",
       "    </tr>\n",
       "  </thead>\n",
       "  <tbody>\n",
       "    <tr>\n",
       "      <th>0</th>\n",
       "      <td>Rothschild &amp; Co - Private Equity Long-Term Int...</td>\n",
       "    </tr>\n",
       "    <tr>\n",
       "      <th>1</th>\n",
       "      <td>2023 HSBC Global Graduate Programme (Hong Kong...</td>\n",
       "    </tr>\n",
       "    <tr>\n",
       "      <th>2</th>\n",
       "      <td>2023 HSBC Global Internship Programme (Hong Ko...</td>\n",
       "    </tr>\n",
       "    <tr>\n",
       "      <th>3</th>\n",
       "      <td>Graduate Training Scheme, Capital Markets</td>\n",
       "    </tr>\n",
       "    <tr>\n",
       "      <th>4</th>\n",
       "      <td>6-Months Internship – Sell-side Tech M&amp;A</td>\n",
       "    </tr>\n",
       "  </tbody>\n",
       "</table>\n",
       "</div>"
      ],
      "text/plain": [
       "                                               title\n",
       "0  Rothschild & Co - Private Equity Long-Term Int...\n",
       "1  2023 HSBC Global Graduate Programme (Hong Kong...\n",
       "2  2023 HSBC Global Internship Programme (Hong Ko...\n",
       "3         Graduate Training Scheme, Capital Markets \n",
       "4           6-Months Internship – Sell-side Tech M&A"
      ]
     },
     "execution_count": 102,
     "metadata": {},
     "output_type": "execute_result"
    }
   ],
   "source": [
    "df_title_r_1.head()"
   ]
  },
  {
   "cell_type": "code",
   "execution_count": null,
   "metadata": {},
   "outputs": [
    {
     "data": {
      "text/plain": [
       "pandas.core.frame.DataFrame"
      ]
     },
     "execution_count": 104,
     "metadata": {},
     "output_type": "execute_result"
    }
   ],
   "source": [
    "df_fil_1 = pd.DataFrame(fil_lst_1)\n",
    "type(df_fil_1)"
   ]
  },
  {
   "cell_type": "code",
   "execution_count": null,
   "metadata": {},
   "outputs": [
    {
     "data": {
      "text/plain": [
       "101"
      ]
     },
     "execution_count": 105,
     "metadata": {},
     "output_type": "execute_result"
    }
   ],
   "source": [
    "len(df_fil_1)"
   ]
  },
  {
   "cell_type": "code",
   "execution_count": null,
   "metadata": {},
   "outputs": [
    {
     "data": {
      "text/html": [
       "<div>\n",
       "<style scoped>\n",
       "    .dataframe tbody tr th:only-of-type {\n",
       "        vertical-align: middle;\n",
       "    }\n",
       "\n",
       "    .dataframe tbody tr th {\n",
       "        vertical-align: top;\n",
       "    }\n",
       "\n",
       "    .dataframe thead th {\n",
       "        text-align: right;\n",
       "    }\n",
       "</style>\n",
       "<table border=\"1\" class=\"dataframe\">\n",
       "  <thead>\n",
       "    <tr style=\"text-align: right;\">\n",
       "      <th></th>\n",
       "      <th>title</th>\n",
       "      <th>0</th>\n",
       "    </tr>\n",
       "  </thead>\n",
       "  <tbody>\n",
       "    <tr>\n",
       "      <th>0</th>\n",
       "      <td>Rothschild &amp; Co - Private Equity Long-Term Int...</td>\n",
       "      <td>London month internship exciting opportunity R...</td>\n",
       "    </tr>\n",
       "    <tr>\n",
       "      <th>1</th>\n",
       "      <td>2023 HSBC Global Graduate Programme (Hong Kong...</td>\n",
       "      <td>excited career many paths possibilities global...</td>\n",
       "    </tr>\n",
       "    <tr>\n",
       "      <th>2</th>\n",
       "      <td>2023 HSBC Global Internship Programme (Hong Ko...</td>\n",
       "      <td>excited career many paths possibilities global...</td>\n",
       "    </tr>\n",
       "    <tr>\n",
       "      <th>3</th>\n",
       "      <td>Graduate Training Scheme, Capital Markets</td>\n",
       "      <td>Graduate Training Scheme LondonGreySpark Partn...</td>\n",
       "    </tr>\n",
       "    <tr>\n",
       "      <th>4</th>\n",
       "      <td>6-Months Internship – Sell-side Tech M&amp;A</td>\n",
       "      <td>IPTP software decades deep experience technolo...</td>\n",
       "    </tr>\n",
       "    <tr>\n",
       "      <th>...</th>\n",
       "      <td>...</td>\n",
       "      <td>...</td>\n",
       "    </tr>\n",
       "    <tr>\n",
       "      <th>96</th>\n",
       "      <td>M&amp;A Analyst Intern</td>\n",
       "      <td>MAJOR RESPONSIBILITIESGather financial operat...</td>\n",
       "    </tr>\n",
       "    <tr>\n",
       "      <th>97</th>\n",
       "      <td>12 Month Internship - Financial Crimes and San...</td>\n",
       "      <td>Job summaryFinancial Crime Financial Security ...</td>\n",
       "    </tr>\n",
       "    <tr>\n",
       "      <th>98</th>\n",
       "      <td>Investment Associate - Fixed Income</td>\n",
       "      <td>Position OverviewPutnam energetic curious indi...</td>\n",
       "    </tr>\n",
       "    <tr>\n",
       "      <th>99</th>\n",
       "      <td>12 Month Internship - Central Compliance</td>\n",
       "      <td>SummaryThe Central Compliance team responsible...</td>\n",
       "    </tr>\n",
       "    <tr>\n",
       "      <th>100</th>\n",
       "      <td>12 Month Internship - Market Activity Monitoring</td>\n",
       "      <td>Key ResponsibilitiesThis role MAM Section Head...</td>\n",
       "    </tr>\n",
       "  </tbody>\n",
       "</table>\n",
       "<p>101 rows × 2 columns</p>\n",
       "</div>"
      ],
      "text/plain": [
       "                                                 title  \\\n",
       "0    Rothschild & Co - Private Equity Long-Term Int...   \n",
       "1    2023 HSBC Global Graduate Programme (Hong Kong...   \n",
       "2    2023 HSBC Global Internship Programme (Hong Ko...   \n",
       "3           Graduate Training Scheme, Capital Markets    \n",
       "4             6-Months Internship – Sell-side Tech M&A   \n",
       "..                                                 ...   \n",
       "96                                M&A Analyst Intern     \n",
       "97   12 Month Internship - Financial Crimes and San...   \n",
       "98                 Investment Associate - Fixed Income   \n",
       "99            12 Month Internship - Central Compliance   \n",
       "100   12 Month Internship - Market Activity Monitoring   \n",
       "\n",
       "                                                     0  \n",
       "0    London month internship exciting opportunity R...  \n",
       "1    excited career many paths possibilities global...  \n",
       "2    excited career many paths possibilities global...  \n",
       "3    Graduate Training Scheme LondonGreySpark Partn...  \n",
       "4    IPTP software decades deep experience technolo...  \n",
       "..                                                 ...  \n",
       "96   MAJOR RESPONSIBILITIESGather financial operat...  \n",
       "97   Job summaryFinancial Crime Financial Security ...  \n",
       "98   Position OverviewPutnam energetic curious indi...  \n",
       "99   SummaryThe Central Compliance team responsible...  \n",
       "100  Key ResponsibilitiesThis role MAM Section Head...  \n",
       "\n",
       "[101 rows x 2 columns]"
      ]
     },
     "execution_count": 111,
     "metadata": {},
     "output_type": "execute_result"
    }
   ],
   "source": [
    "# CREATING DATAFRAME FOR R\n",
    "\n",
    "df_r_1 = pd.concat([df_title_r_1, df_fil_1], axis = 1)\n",
    "df_r_1"
   ]
  },
  {
   "cell_type": "code",
   "execution_count": null,
   "metadata": {},
   "outputs": [
    {
     "data": {
      "text/plain": [
       "'2R Capital Investment Management Limited independent investment company London UK successful credit business process new initiatives equity investing private assets equity primary objective long term capital clients commensurate reasonable risk attention mid - sized European companies fundamental investors extensive research businesses regions industry sectors significant expertise private assets space equity debt small medium sized companies significant growth potential sectors regions Job Opportunities analysts investment opportunities Europe internship full time positions available Targeted training successful candidates self starters activities little supervision keen interest securities investing good research writing financial modelling abilities European languages important Day day activities search origination potential investment opportunities primary research analysis specific sectors companies valuation investment opportunities Direct interaction entrepreneurs managers investors possible unique opportunity new investment team direct exposure portfolio manager integral part investment decision process'"
      ]
     },
     "execution_count": 211,
     "metadata": {},
     "output_type": "execute_result"
    }
   ],
   "source": [
    "df_r_1.iloc[95,1]"
   ]
  },
  {
   "cell_type": "code",
   "execution_count": null,
   "metadata": {},
   "outputs": [],
   "source": [
    "#Export as .csv file\n",
    "#df_r_1.to_csv('df_r_1.csv')"
   ]
  },
  {
   "attachments": {},
   "cell_type": "markdown",
   "metadata": {},
   "source": [
    "Below is the code for applying the pipeline to the entire dataset\n",
    "\n",
    "1. Cleaning the data \n",
    "-identify index of non-text data\n",
    "-removing nan (non-text) data\n",
    "\n",
    "2. Convert to nlp object 'document'\n",
    "\n",
    "\n",
    "3. "
   ]
  },
  {
   "cell_type": "code",
   "execution_count": null,
   "metadata": {},
   "outputs": [],
   "source": []
  }
 ],
 "metadata": {
  "kernelspec": {
   "display_name": "base",
   "language": "python",
   "name": "python3"
  },
  "language_info": {
   "codemirror_mode": {
    "name": "ipython",
    "version": 3
   },
   "file_extension": ".py",
   "mimetype": "text/x-python",
   "name": "python",
   "nbconvert_exporter": "python",
   "pygments_lexer": "ipython3",
   "version": "3.7.6"
  },
  "orig_nbformat": 4,
  "vscode": {
   "interpreter": {
    "hash": "cd78fef2128015050713e82ca51c6520b11aee7c9ee8df750520bbbc7384cbaa"
   }
  }
 },
 "nbformat": 4,
 "nbformat_minor": 2
}
