{
 "cells": [
  {
   "cell_type": "code",
   "execution_count": 7,
   "metadata": {},
   "outputs": [
    {
     "name": "stdout",
     "output_type": "stream",
     "text": [
      "Requirement already satisfied: selenium in /Users/User/opt/anaconda3/lib/python3.9/site-packages (4.6.0)\n",
      "Requirement already satisfied: urllib3[socks]~=1.26 in /Users/User/opt/anaconda3/lib/python3.9/site-packages (from selenium) (1.26.11)\n",
      "Requirement already satisfied: trio~=0.17 in /Users/User/opt/anaconda3/lib/python3.9/site-packages (from selenium) (0.22.0)\n",
      "Requirement already satisfied: trio-websocket~=0.9 in /Users/User/opt/anaconda3/lib/python3.9/site-packages (from selenium) (0.9.2)\n",
      "Requirement already satisfied: certifi>=2021.10.8 in /Users/User/opt/anaconda3/lib/python3.9/site-packages (from selenium) (2022.9.24)\n",
      "Requirement already satisfied: async-generator>=1.9 in /Users/User/opt/anaconda3/lib/python3.9/site-packages (from trio~=0.17->selenium) (1.10)\n",
      "Requirement already satisfied: sortedcontainers in /Users/User/opt/anaconda3/lib/python3.9/site-packages (from trio~=0.17->selenium) (2.4.0)\n",
      "Requirement already satisfied: outcome in /Users/User/opt/anaconda3/lib/python3.9/site-packages (from trio~=0.17->selenium) (1.2.0)\n",
      "Requirement already satisfied: idna in /Users/User/opt/anaconda3/lib/python3.9/site-packages (from trio~=0.17->selenium) (3.3)\n",
      "Requirement already satisfied: exceptiongroup>=1.0.0rc9 in /Users/User/opt/anaconda3/lib/python3.9/site-packages (from trio~=0.17->selenium) (1.0.2)\n",
      "Requirement already satisfied: sniffio in /Users/User/opt/anaconda3/lib/python3.9/site-packages (from trio~=0.17->selenium) (1.2.0)\n",
      "Requirement already satisfied: attrs>=19.2.0 in /Users/User/opt/anaconda3/lib/python3.9/site-packages (from trio~=0.17->selenium) (21.4.0)\n",
      "Requirement already satisfied: wsproto>=0.14 in /Users/User/opt/anaconda3/lib/python3.9/site-packages (from trio-websocket~=0.9->selenium) (1.2.0)\n",
      "Requirement already satisfied: PySocks!=1.5.7,<2.0,>=1.5.6 in /Users/User/opt/anaconda3/lib/python3.9/site-packages (from urllib3[socks]~=1.26->selenium) (1.7.1)\n",
      "Requirement already satisfied: h11<1,>=0.9.0 in /Users/User/opt/anaconda3/lib/python3.9/site-packages (from wsproto>=0.14->trio-websocket~=0.9->selenium) (0.14.0)\n"
     ]
    },
    {
     "name": "stderr",
     "output_type": "stream",
     "text": [
      "/var/folders/57/kysb1z8n4tqgsjyp93x2g3z80000gn/T/ipykernel_88296/317028601.py:5: DeprecationWarning: executable_path has been deprecated, please pass in a Service object\n",
      "  driver = Chrome(driver_path)\n"
     ]
    }
   ],
   "source": [
    "# installs selenium\n",
    "!pip install selenium\n",
    "from selenium.webdriver import Chrome\n",
    "driver_path = 'Users/user/Downloads/chromedriver2'\n",
    "driver = Chrome(driver_path)"
   ]
  },
  {
   "cell_type": "code",
   "execution_count": 8,
   "metadata": {},
   "outputs": [],
   "source": [
    "driver.get(\"https://careers.lse.ac.uk/students/jobs\")"
   ]
  },
  {
   "cell_type": "code",
   "execution_count": 9,
   "metadata": {},
   "outputs": [],
   "source": [
    "#navigating to the username box\n",
    "username = driver.find_element(\"css selector\", \"body > div.main > div > div > div > div.sparse-body.auth-body > div > div.ch-account > div > form > div.login > div.form-group.username-group\")\n",
    "# clicking on the username box\n",
    "username.click()\n",
    "from selenium.webdriver.common.keys import Keys\n",
    "#navigating to the username box\n",
    "username = driver.find_element(\"css selector\", \"body > div.main > div > div > div > div.sparse-body.auth-body > div > div.ch-account > div > form > div.login > div.form-group.username-group\")\n",
    "# clicking on the username box\n",
    "username.click()\n",
    "inputElement = driver.find_element(\"css selector\", \"#username\")\n",
    "inputElement.send_keys('202008067')"
   ]
  },
  {
   "cell_type": "code",
   "execution_count": 10,
   "metadata": {},
   "outputs": [],
   "source": [
    "password = driver.find_element(\"css selector\", \"body > div.main > div > div > div > div.sparse-body.auth-body > div > div.ch-account > div > form > div.login > div.form-group.password-group\")\n",
    "# clicking on the username box\n",
    "password.click()\n",
    "inputElement = driver.find_element(\"css selector\", \"#password\")\n",
    "inputElement.send_keys('Spiros135!')\n",
    "inputElement.send_keys(Keys.ENTER)"
   ]
  },
  {
   "cell_type": "code",
   "execution_count": 13,
   "metadata": {},
   "outputs": [],
   "source": [
    "more_search_options = driver.find_element(\"css selector\", \"#main > div.under-nav > div > div > form > div:nth-child(2) > div > div > ul > li:nth-child(4) > a > span\")\n",
    "more_search_options.click()\n",
    "\n"
   ]
  },
  {
   "cell_type": "code",
   "execution_count": 17,
   "metadata": {},
   "outputs": [],
   "source": [
    "investment_banking = driver.find_element(\"css selector\", \"#industry > option:nth-child(29)\")\n",
    "investment_banking.click()\n",
    "include_expired = driver.find_element(\"css selector\", \"#main > div.under-nav > div > div > form > div.form-group > div > div.col-md-12 > div.more-options.collapse.in > div:nth-child(5) > div > div:nth-child(2) > label > input[type=checkbox]\")\n",
    "include_expired.click()\n",
    "submit_search = driver.find_element(\"css selector\", \"#main > div.under-nav > div > div > form > div:nth-child(3) > div > div > button\")\n",
    "submit_search.click()"
   ]
  },
  {
   "cell_type": "code",
   "execution_count": 18,
   "metadata": {},
   "outputs": [
    {
     "name": "stdout",
     "output_type": "stream",
     "text": [
      "<Response [200]>\n"
     ]
    }
   ],
   "source": [
    "import requests\n",
    "from bs4 import BeautifulSoup\n",
    "url = driver.current_url\n",
    "response = requests.get(url)\n",
    "print(response)"
   ]
  },
  {
   "cell_type": "code",
   "execution_count": 19,
   "metadata": {},
   "outputs": [
    {
     "data": {
      "text/plain": [
       "'\\n                Found 6602\\n                opportunities\\n\\n\\n                \\n\\n\\n                                Relevance\\n                            \\n\\n                                Most Recent\\n                            \\n\\n                                Closing Soon\\n                            \\n\\n\\n'"
      ]
     },
     "execution_count": 19,
     "metadata": {},
     "output_type": "execute_result"
    }
   ],
   "source": [
    "html = driver.page_source\n",
    "soup = BeautifulSoup(html)\n",
    "soup.find('div',attrs = {'class':'panel-heading'}).get_text()"
   ]
  },
  {
   "cell_type": "code",
   "execution_count": 20,
   "metadata": {},
   "outputs": [],
   "source": [
    "# run this block when job_titles/links is empty to RESET \n",
    "html = driver.page_source \n",
    "soup = BeautifulSoup(html)\n",
    "\n",
    "jobs = soup.find_all('div',attrs={'class':'list-group-item'})"
   ]
  },
  {
   "cell_type": "code",
   "execution_count": 21,
   "metadata": {},
   "outputs": [],
   "source": [
    "job_titles = []\n",
    "job_links = []\n",
    "for job in jobs:\n",
    "        title = job.find('a').get_text().replace(\"\\n                                \",\"\").replace(\"\\n                        \",\"\")\n",
    "        job_titles.append(title)\n",
    "\n",
    "        link = 'https://careers.lse.ac.uk/' + job.find('a').get('href')\n",
    "        job_links.append(link)"
   ]
  },
  {
   "cell_type": "code",
   "execution_count": 22,
   "metadata": {},
   "outputs": [
    {
     "data": {
      "text/plain": [
       "['https://careers.lse.ac.uk//students/jobs/detail/805051/off-cycle-internship-january-j',\n",
       " 'https://careers.lse.ac.uk//students/jobs/detail/805071/summer-internship-british-inte',\n",
       " 'https://careers.lse.ac.uk//students/jobs/detail/804997/2023-emea-treasury-and-trade-s',\n",
       " 'https://careers.lse.ac.uk//students/jobs/detail/804935/investment-banking-internship-',\n",
       " 'https://careers.lse.ac.uk//students/jobs/detail/804871/2023-summer-intern-investments',\n",
       " 'https://careers.lse.ac.uk//students/jobs/detail/804862/analyst-associate-systematic-s',\n",
       " 'https://careers.lse.ac.uk//students/jobs/detail/804842/12-month-internship-itb',\n",
       " 'https://careers.lse.ac.uk//students/jobs/detail/804840/8-12-week-summer-internship-pr',\n",
       " 'https://careers.lse.ac.uk//students/jobs/detail/804868/investment-banking-off-cycle-2',\n",
       " 'https://careers.lse.ac.uk//students/jobs/detail/804863/analyst-associate-systematic-s']"
      ]
     },
     "execution_count": 22,
     "metadata": {},
     "output_type": "execute_result"
    }
   ],
   "source": [
    "\n",
    "job_links"
   ]
  },
  {
   "cell_type": "code",
   "execution_count": 23,
   "metadata": {},
   "outputs": [
    {
     "data": {
      "text/plain": [
       "['Off-Cycle Internship (January – June) - UK Investment Banking, London',\n",
       " 'Summer Internship - British International Investment (x14)',\n",
       " '2023, EMEA, Treasury and Trade Solutions, Transaction Banking, Internship, Paris – January Intake',\n",
       " 'Investment Banking Internship, London - June to December 2023',\n",
       " '2023 Summer Intern - Investments',\n",
       " 'Analyst/Associate, Systematic Strategies Group (Portfolio Construction/Macro Assets)',\n",
       " '12 Month Internship - ITB',\n",
       " '8 - 12 Week Summer Internship Programme',\n",
       " 'Investment Banking Off-Cycle 2023 Analyst - Dubai',\n",
       " 'Analyst/Associate, Systematic Strategies Group (Quantitative Equity)']"
      ]
     },
     "execution_count": 23,
     "metadata": {},
     "output_type": "execute_result"
    }
   ],
   "source": [
    "job_titles"
   ]
  },
  {
   "cell_type": "markdown",
   "metadata": {},
   "source": [
    "MAIN FOR LOOP"
   ]
  },
  {
   "cell_type": "code",
   "execution_count": null,
   "metadata": {},
   "outputs": [],
   "source": [
    "job_detail_list = []\n",
    "job_title_list = []"
   ]
  },
  {
   "cell_type": "code",
   "execution_count": null,
   "metadata": {},
   "outputs": [],
   "source": [
    "print(\"hello world\")"
   ]
  }
 ],
 "metadata": {
  "kernelspec": {
   "display_name": "Python 3.9.13 ('base')",
   "language": "python",
   "name": "python3"
  },
  "language_info": {
   "codemirror_mode": {
    "name": "ipython",
    "version": 3
   },
   "file_extension": ".py",
   "mimetype": "text/x-python",
   "name": "python",
   "nbconvert_exporter": "python",
   "pygments_lexer": "ipython3",
   "version": "3.9.13"
  },
  "orig_nbformat": 4,
  "vscode": {
   "interpreter": {
    "hash": "360b6f71120673705bb9498f8c8879a9911c0f2503f0763a5d6b5177682c6671"
   }
  }
 },
 "nbformat": 4,
 "nbformat_minor": 2
}
